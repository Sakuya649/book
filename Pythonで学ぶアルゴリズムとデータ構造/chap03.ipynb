{
  "nbformat": 4,
  "nbformat_minor": 0,
  "metadata": {
    "colab": {
      "name": "chap03.ipynb",
      "provenance": [],
      "collapsed_sections": [],
      "authorship_tag": "ABX9TyOsHfkkazL116UOIT9J5Rnk"
    },
    "kernelspec": {
      "name": "python3",
      "display_name": "Python 3"
    },
    "language_info": {
      "name": "python"
    }
  },
  "cells": [
    {
      "cell_type": "markdown",
      "metadata": {
        "id": "qlCiN1mCoyF3"
      },
      "source": [
        "最大公約数\n",
        "\n",
        "mathを使った場合"
      ]
    },
    {
      "cell_type": "code",
      "metadata": {
        "colab": {
          "base_uri": "https://localhost:8080/"
        },
        "id": "APle0Op-ox4h",
        "outputId": "f3b074af-28e5-452b-a4ba-3ab7853be988"
      },
      "source": [
        "import math\n",
        "print(math.gcd(18915, 14938))"
      ],
      "execution_count": 2,
      "outputs": [
        {
          "output_type": "stream",
          "name": "stdout",
          "text": [
            "97\n"
          ]
        }
      ]
    },
    {
      "cell_type": "markdown",
      "metadata": {
        "id": "FNDr3mmvpIUL"
      },
      "source": [
        "最大公約数を求める方法1\n",
        "\n",
        "約数を調べ上げる"
      ]
    },
    {
      "cell_type": "code",
      "metadata": {
        "id": "bGFgC1DzYb32",
        "colab": {
          "base_uri": "https://localhost:8080/"
        },
        "outputId": "9f6f5d50-d959-4b79-9f21-8f0c761022d8"
      },
      "source": [
        "a, b = map(int,input().split())\n",
        "x = b\n",
        "while True:\n",
        "  if a % x == 0 and b % x == 0:\n",
        "    print(x)\n",
        "    break\n",
        "  else:\n",
        "    x -= 1"
      ],
      "execution_count": 3,
      "outputs": [
        {
          "output_type": "stream",
          "name": "stdout",
          "text": [
            "18915 14938\n",
            "97\n"
          ]
        }
      ]
    },
    {
      "cell_type": "markdown",
      "metadata": {
        "id": "eg6_mSsDpzSO"
      },
      "source": [
        "最大公約数を求める方法2\n",
        "\n",
        "ユークリッドの互除法を使用\n",
        "\n",
        "O(nlogn)"
      ]
    },
    {
      "cell_type": "code",
      "metadata": {
        "colab": {
          "base_uri": "https://localhost:8080/"
        },
        "id": "wjO6hCAIp5fQ",
        "outputId": "d00b1572-ac47-48c6-ec3e-70f4b2a46a97"
      },
      "source": [
        "a, b = map(int,input().split())\n",
        "while True:\n",
        "  r = a % b\n",
        "  if r == 0:\n",
        "    print(b)\n",
        "    break\n",
        "  a, b = b, r"
      ],
      "execution_count": 4,
      "outputs": [
        {
          "output_type": "stream",
          "name": "stdout",
          "text": [
            "18915 14938\n",
            "97\n"
          ]
        }
      ]
    },
    {
      "cell_type": "markdown",
      "metadata": {
        "id": "K71uQ9n4q6Bq"
      },
      "source": [
        "最大公約数を求める方法3\n",
        "\n",
        "ユークリッドの互除法を使用（再帰）"
      ]
    },
    {
      "cell_type": "code",
      "metadata": {
        "colab": {
          "base_uri": "https://localhost:8080/"
        },
        "id": "KKRVl_Y3rNKl",
        "outputId": "7063b7e9-cce5-4519-80f0-c595b40c642a"
      },
      "source": [
        "def euclidean_recursion(a, b):\n",
        "  r = a % b\n",
        "  if r == 0:\n",
        "    return b\n",
        "  return euclidean_recursion(b, r)\n",
        "\n",
        "a, b = map(int,input().split())\n",
        "print(euclidean_recursion(a, b))"
      ],
      "execution_count": 5,
      "outputs": [
        {
          "output_type": "stream",
          "name": "stdout",
          "text": [
            "18915 14938\n",
            "97\n"
          ]
        }
      ]
    },
    {
      "cell_type": "markdown",
      "metadata": {
        "id": "yq4mlu6OsZ8r"
      },
      "source": [
        "配列のソート"
      ]
    },
    {
      "cell_type": "code",
      "metadata": {
        "colab": {
          "base_uri": "https://localhost:8080/"
        },
        "id": "GrXOSHRpwVGV",
        "outputId": "078a459c-7a93-4dc6-9026-fa9ad8de5fa9"
      },
      "source": [
        "import random\n",
        "random.seed(5)\n",
        "test_array = [random.randint(0, 99) for i in range(20)]\n",
        "print(test_array)\n",
        "print((sorted(test_array)))"
      ],
      "execution_count": 29,
      "outputs": [
        {
          "output_type": "stream",
          "name": "stdout",
          "text": [
            "[79, 32, 94, 45, 88, 94, 83, 67, 3, 59, 99, 31, 83, 6, 20, 14, 47, 60, 31, 48]\n",
            "[3, 6, 14, 20, 31, 31, 32, 45, 47, 48, 59, 60, 67, 79, 83, 83, 88, 94, 94, 99]\n"
          ]
        }
      ]
    },
    {
      "cell_type": "markdown",
      "metadata": {
        "id": "ZK-MWirj5gwa"
      },
      "source": [
        "選択ソート"
      ]
    },
    {
      "cell_type": "code",
      "metadata": {
        "colab": {
          "base_uri": "https://localhost:8080/"
        },
        "id": "E6Bt_8kN5gYV",
        "outputId": "c32d471c-6840-4dc2-8efe-04727562c3bd"
      },
      "source": [
        "def selection_sort(array):\n",
        "  x = array.copy()\n",
        "  n = len(x)\n",
        "  for i in range(n):\n",
        "    min_idx = i\n",
        "    for j in range(i, n):\n",
        "      if x[j] < x[min_idx]:\n",
        "        min_idx = j\n",
        "    x[i], x[min_idx] = x[min_idx], x[i]\n",
        "  return x\n",
        "\n",
        "selection_sort(test_array)"
      ],
      "execution_count": 9,
      "outputs": [
        {
          "output_type": "execute_result",
          "data": {
            "text/plain": [
              "[3, 6, 14, 20, 31, 31, 32, 45, 47, 48, 59, 60, 67, 79, 83, 83, 88, 94, 94, 99]"
            ]
          },
          "metadata": {},
          "execution_count": 9
        }
      ]
    },
    {
      "cell_type": "markdown",
      "metadata": {
        "id": "fS2_ASpy7UyO"
      },
      "source": [
        "速度の比較（選択ソート）"
      ]
    },
    {
      "cell_type": "code",
      "metadata": {
        "colab": {
          "base_uri": "https://localhost:8080/"
        },
        "id": "tM2LM5Sa7UWU",
        "outputId": "f34b905a-8dbb-4751-8e10-be098a5aada8"
      },
      "source": [
        "import timeit\n",
        "test_array = [random.randint(0, 99) for i in range(10000)]\n",
        "print(timeit.timeit('selection_sort(test_array)', globals=globals(), number=1))\n",
        "#組み込みソート関数\n",
        "print(timeit.timeit('sorted(test_array)', globals=globals(), number=1))"
      ],
      "execution_count": 12,
      "outputs": [
        {
          "output_type": "stream",
          "name": "stdout",
          "text": [
            "5.0236222110006565\n",
            "0.0012925070004712325\n"
          ]
        }
      ]
    },
    {
      "cell_type": "markdown",
      "metadata": {
        "id": "t3zcjHBhA1c0"
      },
      "source": [
        "練習問題1\n",
        "\n",
        "指定された桁数の自然数をランダムに生成して返す関数を作成せよ．"
      ]
    },
    {
      "cell_type": "code",
      "metadata": {
        "colab": {
          "base_uri": "https://localhost:8080/"
        },
        "id": "tXlbTfn2BAA1",
        "outputId": "8c916f91-0bf4-432b-f1aa-7fbfd2d67c95"
      },
      "source": [
        "import random\n",
        "def return_rand_num(n):\n",
        "  return random.randrange(10**(n-1), 10**n-1)\n",
        "n = int(input())\n",
        "print(return_rand_num(n ))"
      ],
      "execution_count": 11,
      "outputs": [
        {
          "output_type": "stream",
          "name": "stdout",
          "text": [
            "5\n",
            "58682\n"
          ]
        }
      ]
    },
    {
      "cell_type": "markdown",
      "metadata": {
        "id": "7JtED-D4HE1n"
      },
      "source": [
        "練習問題2\n",
        "\n",
        "n!で表現される計算は階乗と呼ばれる．nが自然数の時は，その数自身から1までを順番に全て掛け合わせた数になる．Pythonのmathモジュールから会場の計算を実行する関数を探して実行せよ．また，同じ機能を実現する関数を実装し，結果が正しいことを確認せよ．余裕がある場合は再帰を使った実装を試みよ．"
      ]
    },
    {
      "cell_type": "code",
      "metadata": {
        "colab": {
          "base_uri": "https://localhost:8080/"
        },
        "id": "YbZc1rPQGnhp",
        "outputId": "9027a2ce-cbe1-4dd2-cff6-48e240b2a28f"
      },
      "source": [
        "#mathモジュールを使った実装\n",
        "import math\n",
        "n = int(input())\n",
        "print(math.factorial(n))\n",
        "\n",
        "#同様の機能を持つ関数\n",
        "def factorial_1(n):\n",
        "  ans = 1\n",
        "  for i in range(1, n+1):\n",
        "    ans *= i\n",
        "  return ans\n",
        "print(factorial_1(n))\n",
        "\n",
        "#再帰を使った実装\n",
        "def factorial_2(n):\n",
        "  if n == 0:\n",
        "    return 1\n",
        "  else:\n",
        "    return n * factorial_2(n - 1)\n",
        "print(factorial_2(n))"
      ],
      "execution_count": 16,
      "outputs": [
        {
          "output_type": "stream",
          "name": "stdout",
          "text": [
            "4\n",
            "24\n",
            "24\n",
            "24\n"
          ]
        }
      ]
    },
    {
      "cell_type": "markdown",
      "metadata": {
        "id": "hJ0ys6tTJZWk"
      },
      "source": [
        "練習問題3\n",
        "\n",
        "ランダムに生成した2桁の整数を20個含むリストを作り，降順に並ぶようソートせよ．"
      ]
    },
    {
      "cell_type": "code",
      "metadata": {
        "colab": {
          "base_uri": "https://localhost:8080/"
        },
        "id": "lcau-NYMJhh1",
        "outputId": "bbe43b56-20ae-4276-9f12-ab270d9e4af7"
      },
      "source": [
        "rand_list = [random.randrange(10, 99) for _ in range(20)]\n",
        "print(rand_list)\n",
        "rand_list.sort()\n",
        "print(rand_list)"
      ],
      "execution_count": 19,
      "outputs": [
        {
          "output_type": "stream",
          "name": "stdout",
          "text": [
            "[65, 44, 32, 16, 22, 73, 31, 83, 29, 16, 83, 58, 71, 30, 49, 98, 48, 73, 72, 87]\n",
            "[16, 16, 22, 29, 30, 31, 32, 44, 48, 49, 58, 65, 71, 72, 73, 73, 83, 83, 87, 98]\n"
          ]
        }
      ]
    },
    {
      "cell_type": "markdown",
      "metadata": {
        "id": "66ct0mUqJ_pV"
      },
      "source": [
        "練習問題4\n",
        "\n",
        "timeモジュールのtime関数は1970/1/1からの経過時間を秒で返す．datetimeモジュールを使ってこれを確かめよ．datetime.date型はtodayというメソッドをもち，これを使って今日の日付を得ることができる．また，datetime.dateに整数で年，月，日を順に与えると，指定した日付のインスタンスを作ることができる．さらにこれらdatetime.date型は引き算で差分を計算することができる．"
      ]
    },
    {
      "cell_type": "code",
      "metadata": {
        "colab": {
          "base_uri": "https://localhost:8080/"
        },
        "id": "7VSQ26n-K4lX",
        "outputId": "96712528-1be5-4168-be42-bc43860e2a04"
      },
      "source": [
        "import time\n",
        "import datetime\n",
        "print(time.time())\n",
        "print(datetime.date.today())\n",
        "print(datetime.date(1936,2,26))"
      ],
      "execution_count": 26,
      "outputs": [
        {
          "output_type": "stream",
          "name": "stdout",
          "text": [
            "1631553928.2790594\n",
            "2021-09-13\n",
            "1936-02-26\n"
          ]
        }
      ]
    }
  ]
}