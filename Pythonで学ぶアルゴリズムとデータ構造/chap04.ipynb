{
  "nbformat": 4,
  "nbformat_minor": 0,
  "metadata": {
    "colab": {
      "name": "chap04.ipynb",
      "provenance": [],
      "collapsed_sections": [],
      "authorship_tag": "ABX9TyPR2wqPFY5neL9a40YYb33D"
    },
    "kernelspec": {
      "name": "python3",
      "display_name": "Python 3"
    },
    "language_info": {
      "name": "python"
    }
  },
  "cells": [
    {
      "cell_type": "markdown",
      "metadata": {
        "id": "sANo6E3HfxzX"
      },
      "source": [
        "マージソート\n",
        "\n",
        "2つのソートされた配列を1つのソートされた配列にまとめながらソートを実行．\n",
        "\n",
        "計算量はO(nlogn)"
      ]
    },
    {
      "cell_type": "code",
      "metadata": {
        "id": "oqpJ_FY9YhBt"
      },
      "source": [
        "'''\n",
        "2つのソート済み配列を統合する関数\n",
        "left, rightはソート済みの2配列．配列1つでも動作するようrightのデフォルト値を設定している．\n",
        "'''\n",
        "def merge_arrays(left, right=[]):\n",
        "  res = []\n",
        "  i, j = 0, 0\n",
        "  n, m = len(left), len(right)\n",
        "  #どちらかの配列を調べ尽くしたらそこで終了\n",
        "  while i < n and j < m:\n",
        "    if left[i] <= right[j]:\n",
        "      res.append(left[i])\n",
        "      i += 1\n",
        "    else:\n",
        "      res.append(right[j])\n",
        "      j += 1\n",
        "  #片方が終了したら(どちらかがfalseになる)残りはソート済みなので，そのまま後ろに連結\n",
        "  return res + left[i:] + right[j:]"
      ],
      "execution_count": null,
      "outputs": []
    },
    {
      "cell_type": "code",
      "metadata": {
        "id": "3Ha_Hzp0lDzJ"
      },
      "source": [
        "'''\n",
        "配列を分割してmerge_arraysに渡す関数\n",
        "'''\n",
        "def step(array):\n",
        "  res = []\n",
        "  for i in range(0, len(array), 2):\n",
        "    res.append(merge_arrays(*array[i:i+2]))\n",
        "  return res"
      ],
      "execution_count": null,
      "outputs": []
    },
    {
      "cell_type": "code",
      "metadata": {
        "id": "KG_Hv8puw_FE"
      },
      "source": [
        "#マージソート\n",
        "def merge_sort(array):\n",
        "  res = [[v] for v in array]\n",
        "  while len(res[0]) != len(array):\n",
        "    res = step(res)\n",
        "  return res[0]"
      ],
      "execution_count": null,
      "outputs": []
    },
    {
      "cell_type": "code",
      "metadata": {
        "colab": {
          "base_uri": "https://localhost:8080/"
        },
        "id": "feeE6H22nTyy",
        "outputId": "e51c9eb0-02a0-42bb-ab9d-c4816b8cf894"
      },
      "source": [
        "#各関数の動作確認\n",
        "import random\n",
        "random.seed(4)\n",
        "test_array = [random.randint(0, 100) for i in range(15)]\n",
        "test_array2 = [[v] for v in test_array]\n",
        "print(test_array2)\n",
        "\n",
        "#1回目のマージ\n",
        "step1 = step(test_array2)\n",
        "#先頭から2つずつソートされてまとめられている\n",
        "print(step1)\n",
        "\n",
        "#2回目のマージ\n",
        "step2 = step(step1)\n",
        "print(step2)\n",
        "\n",
        "#3回目のマージ\n",
        "step3 = step(step2)\n",
        "print(step3)\n",
        "\n",
        "#4回目のマージ\n",
        "step4 = step(step3)\n",
        "print(step4)\n",
        "\n",
        "#merge_sortの動作確認\n",
        "print(\"----------\")\n",
        "print(merge_sort(test_array))"
      ],
      "execution_count": null,
      "outputs": [
        {
          "output_type": "stream",
          "name": "stdout",
          "text": [
            "[[30], [38], [13], [92], [50], [61], [19], [11], [8], [2], [51], [70], [37], [97], [7]]\n",
            "[[30, 38], [13, 92], [50, 61], [11, 19], [2, 8], [51, 70], [37, 97], [7]]\n",
            "[[13, 30, 38, 92], [11, 19, 50, 61], [2, 8, 51, 70], [7, 37, 97]]\n",
            "[[11, 13, 19, 30, 38, 50, 61, 92], [2, 7, 8, 37, 51, 70, 97]]\n",
            "[[2, 7, 8, 11, 13, 19, 30, 37, 38, 50, 51, 61, 70, 92, 97]]\n",
            "----------\n",
            "[2, 7, 8, 11, 13, 19, 30, 37, 38, 50, 51, 61, 70, 92, 97]\n"
          ]
        }
      ]
    },
    {
      "cell_type": "code",
      "metadata": {
        "colab": {
          "base_uri": "https://localhost:8080/"
        },
        "id": "Cci2CJR8Ly-H",
        "outputId": "a99c5f3c-b4e3-40bb-dfae-c3be4b03f921"
      },
      "source": [
        "#再帰を使ったmerge sort\n",
        "def merge_sort2(array):\n",
        "  if len(array) <= 1:\n",
        "    return array\n",
        "  mid_idx = len(array) // 2\n",
        "  left = array[:mid_idx]\n",
        "  right = array[mid_idx:]\n",
        "  return merge_arrays(merge_sort2(left), merge_sort2(right))\n",
        "\n",
        "print(merge_sort2(test_array))"
      ],
      "execution_count": null,
      "outputs": [
        {
          "output_type": "stream",
          "name": "stdout",
          "text": [
            "[2, 7, 8, 11, 13, 19, 30, 37, 38, 50, 51, 61, 70, 92, 97]\n"
          ]
        }
      ]
    },
    {
      "cell_type": "markdown",
      "metadata": {
        "id": "GCAYZConfTCR"
      },
      "source": [
        "クイックソート\n",
        "\n",
        "配列からpivotを1つ選び，その値より大きいか小さいかで配列を分割する．その分割した配列をさらにクイックソートしていく．\n",
        "\n",
        "計算量はO(nlogn)\n",
        "\n",
        "クイックソートの弱点：入力される配列がすでにソートされている場合，パフォーマンスが悪くなる．"
      ]
    },
    {
      "cell_type": "code",
      "metadata": {
        "id": "tV801grugWU4"
      },
      "source": [
        "def quick_sort(array):\n",
        "  #空の配列はそのまま返す\n",
        "  if array == []:\n",
        "    return array\n",
        "  #最後の配列はpivotにする\n",
        "  p = array[-1]\n",
        "  \n",
        "  #pivotをランダムに選ぶ場合\n",
        "  p = random.choice(array)\n",
        "  left = []\n",
        "  right = []\n",
        "  pivots = []\n",
        "\n",
        "  #pivotより大きいか小さいかで配列を分割\n",
        "  for v in array:\n",
        "    if v < p:\n",
        "      left.append(v)\n",
        "    elif v == p:\n",
        "      pivots.append(v)\n",
        "    else:\n",
        "      right.append(v)\n",
        "  \n",
        "  #leftとrightの配列は再びquick_sortして返す\n",
        "  return quick_sort(left) + pivots + quick_sort(right)\n",
        "  "
      ],
      "execution_count": 5,
      "outputs": []
    },
    {
      "cell_type": "code",
      "metadata": {
        "colab": {
          "base_uri": "https://localhost:8080/"
        },
        "id": "fx28_-SaiTUL",
        "outputId": "736183ae-f8db-4942-d8ff-519b858cf7c5"
      },
      "source": [
        "import random\n",
        "#各関数の動作確認\n",
        "\n",
        "test_array3 = [random.randint(0, 100) for i in range(15)]\n",
        "print(test_array3)\n",
        "print(quick_sort(test_array3))"
      ],
      "execution_count": 4,
      "outputs": [
        {
          "output_type": "stream",
          "name": "stdout",
          "text": [
            "[9, 27, 29, 12, 57, 38, 16, 54, 55, 23, 44, 64, 6, 88, 55]\n",
            "[6, 9, 12, 16, 23, 27, 29, 38, 44, 54, 55, 55, 57, 64, 88]\n"
          ]
        }
      ]
    }
  ]
}