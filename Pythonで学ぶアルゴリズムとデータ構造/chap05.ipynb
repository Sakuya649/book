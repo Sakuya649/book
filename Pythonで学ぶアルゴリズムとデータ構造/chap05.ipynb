{
  "nbformat": 4,
  "nbformat_minor": 0,
  "metadata": {
    "colab": {
      "name": "chap05.ipynb",
      "provenance": [],
      "collapsed_sections": [],
      "authorship_tag": "ABX9TyP6icU91JhbgmZys9NRZawJ",
      "include_colab_link": true
    },
    "kernelspec": {
      "name": "python3",
      "display_name": "Python 3"
    },
    "language_info": {
      "name": "python"
    }
  },
  "cells": [
    {
      "cell_type": "markdown",
      "metadata": {
        "id": "view-in-github",
        "colab_type": "text"
      },
      "source": [
        "<a href=\"https://colab.research.google.com/github/Sakuya649/book/blob/main/Python%E3%81%A7%E5%AD%A6%E3%81%B6%E3%82%A2%E3%83%AB%E3%82%B4%E3%83%AA%E3%82%BA%E3%83%A0%E3%81%A8%E3%83%87%E3%83%BC%E3%82%BF%E6%A7%8B%E9%80%A0/chap05.ipynb\" target=\"_parent\"><img src=\"https://colab.research.google.com/assets/colab-badge.svg\" alt=\"Open In Colab\"/></a>"
      ]
    },
    {
      "cell_type": "markdown",
      "metadata": {
        "id": "_lXmrQALkWv1"
      },
      "source": [
        "リストの中からデータを探す\n",
        "\n",
        "in list　を使用する\n",
        "\n",
        "list.index(value)\n",
        "\n",
        "→valueのデータがあるインデックスを返す（データがなければValueError）"
      ]
    },
    {
      "cell_type": "code",
      "metadata": {
        "id": "XORfi_yFYyIo",
        "colab": {
          "base_uri": "https://localhost:8080/"
        },
        "outputId": "3aa3effa-b680-4b88-8705-43025fd612b9"
      },
      "source": [
        "import random\n",
        "random.seed(8)\n",
        "test_list = [random.randint(0, 100) for i in range(10)]\n",
        "print(test_list)\n",
        "\n",
        "#inを使ったデータ探索\n",
        "print(10 in test_list)\n",
        "print(100 in test_list)\n",
        "\n",
        "#indexの検索\n",
        "print(test_list.index(10))\n"
      ],
      "execution_count": null,
      "outputs": [
        {
          "output_type": "stream",
          "name": "stdout",
          "text": [
            "[29, 47, 48, 16, 24, 90, 5, 10, 17, 31]\n",
            "True\n",
            "False\n",
            "7\n"
          ]
        }
      ]
    },
    {
      "cell_type": "markdown",
      "source": [
        "線形探索の実装\n",
        "\n",
        "入力配列の長さがnの時，計算量はO(n)"
      ],
      "metadata": {
        "id": "86H-me39l502"
      }
    },
    {
      "cell_type": "code",
      "source": [
        "def linear_search(target, data_list):\n",
        "  for data in data_list:\n",
        "    if data == target:\n",
        "      return True\n",
        "  return False\n",
        "\n",
        "print(linear_search(10, test_list))\n",
        "print(linear_search(100, test_list))"
      ],
      "metadata": {
        "colab": {
          "base_uri": "https://localhost:8080/"
        },
        "id": "0uYUPPc8l8B_",
        "outputId": "0f1162f1-7fbd-43fb-b0ee-2d19df0d4898"
      },
      "execution_count": null,
      "outputs": [
        {
          "output_type": "stream",
          "name": "stdout",
          "text": [
            "True\n",
            "False\n"
          ]
        }
      ]
    },
    {
      "cell_type": "markdown",
      "source": [
        "二分探索\n",
        "\n",
        "配列の真ん中の要素と検索対象の要素が大きいかを比較していく．\n",
        "ソート済みの配列に対してデータを検索する際に使う．はやい，べんり．\n",
        "\n",
        "1ステップごとに検索に必要な長さが半分になるため，計算量はO(logn)"
      ],
      "metadata": {
        "id": "jDQVATzfo06N"
      }
    },
    {
      "cell_type": "code",
      "source": [
        "import bisect\n",
        "random.seed(8)\n",
        "test_list2 = [random.randint(0, 100) for i in range(10)]\n",
        "test_list2.sort()\n",
        "print(test_list2)\n",
        "\n",
        "#bisect.bisectは引数の数値を挿入すべき場所（挿入してもソートされた配列が乱れない場所）を返す\n",
        "print(bisect.bisect(test_list2, 18))\n",
        "\n",
        "#bisect.bisectの2種類の関数\n",
        "#同じデータがある時，その挿入点を右側として返すか，左側として返すかの違い\n",
        "test_list3 = [1, 2, 2, 2, 3]\n",
        "print(test_list3)\n",
        "print(bisect.bisect_left(test_list3, 2))\n",
        "print(bisect.bisect_right(test_list3, 2))\n"
      ],
      "metadata": {
        "colab": {
          "base_uri": "https://localhost:8080/"
        },
        "id": "9Soim3Vir4xb",
        "outputId": "9f0d1f10-b3d4-4bec-f71a-5b727a692256"
      },
      "execution_count": null,
      "outputs": [
        {
          "output_type": "stream",
          "name": "stdout",
          "text": [
            "[5, 10, 16, 17, 24, 29, 31, 47, 48, 90]\n",
            "4\n",
            "[1, 2, 2, 2, 3]\n",
            "1\n",
            "4\n"
          ]
        }
      ]
    },
    {
      "cell_type": "markdown",
      "source": [
        "木構造\n",
        "\n",
        "ノード(node)と枝(branch)からなるデータ構造．最も上のノードは根(root)といい，親のノードを持たない．\n",
        "逆に子ノードを持たないものは葉(leaf)という．\n",
        "\n",
        "根からあるノードまでの枝の数を深さ(depth)，根から最も遠い葉までの枝の数を高さ(height)という．\n",
        "\n",
        "子ノードの数が2個までの木構造を二分木，中でも葉までの距離が全て等しいものを完全二分木という．"
      ],
      "metadata": {
        "id": "BUZZuuGVu7Wx"
      }
    },
    {
      "cell_type": "code",
      "source": [
        "#二分探索木\n",
        "class Node:\n",
        "  def __init__(self, value):\n",
        "    self.value = value\n",
        "    self.left = None\n",
        "    self.right = None\n",
        "  \n",
        "  def __str__(self):\n",
        "    #Nodeクラスのインスタンスを文字列表現にする\n",
        "    left = f'[{self.left.value}]' if self.left else '[]'\n",
        "    right = f'[{self.right.value}]' if self.right else '[]'\n",
        "    return f'{left} <- {self.value} -> {right}'\n",
        "\n",
        "class BinarySearchTree:\n",
        "  def __init__(self):\n",
        "    self.nodes = []\n",
        "  \n",
        "  def add_node(self, value):\n",
        "    node = Node(value)\n",
        "    if self.nodes:\n",
        "      #自分の親ノードを探す\n",
        "      parent, direction = self.find_parent(value)\n",
        "      if direction == 'left':\n",
        "        parent.left = node\n",
        "      else:\n",
        "        parent.right = node\n",
        "    #この木のノードとして格納\n",
        "    self.nodes.append(node)\n",
        "\n",
        "  def find_parent(self, value):\n",
        "    node = self.nodes[0]\n",
        "    #nodeがNoneになるまでループ\n",
        "    while node:\n",
        "      p = node #戻り値の候補としてとっておく\n",
        "      if p.value == value:\n",
        "        raise ValueError('すでにあるノードと同じ値を格納することはできません')\n",
        "      if p.value > value:\n",
        "        direction = 'left'\n",
        "        node = p.left\n",
        "      else:\n",
        "        direction = 'right'\n",
        "        node = p.right\n",
        "    return p, direction"
      ],
      "metadata": {
        "id": "Rd1hS30GvemJ"
      },
      "execution_count": null,
      "outputs": []
    },
    {
      "cell_type": "code",
      "source": [
        "btree = BinarySearchTree()\n",
        "for v in [10, 20, 12, 4, 3, 9, 30]:\n",
        "  btree.add_node(v)\n",
        "\n",
        "for node in btree.nodes:\n",
        "  print(node)\n",
        "\n",
        "print(\"--------------\")\n",
        "\n",
        "btree.add_node(13)\n",
        "btree.add_node(29)\n",
        "btree.add_node(100)\n",
        "\n",
        "for node in btree.nodes:\n",
        "  print(node)"
      ],
      "metadata": {
        "colab": {
          "base_uri": "https://localhost:8080/"
        },
        "id": "skyxi3072W3l",
        "outputId": "c48c2113-a7d6-4e4d-9019-e1755c968c2d"
      },
      "execution_count": null,
      "outputs": [
        {
          "output_type": "stream",
          "name": "stdout",
          "text": [
            "[4] <- 10 -> [20]\n",
            "[12] <- 20 -> [30]\n",
            "[] <- 12 -> []\n",
            "[3] <- 4 -> [9]\n",
            "[] <- 3 -> []\n",
            "[] <- 9 -> []\n",
            "[] <- 30 -> []\n",
            "--------------\n",
            "[4] <- 10 -> [20]\n",
            "[12] <- 20 -> [30]\n",
            "[] <- 12 -> [13]\n",
            "[3] <- 4 -> [9]\n",
            "[] <- 3 -> []\n",
            "[] <- 9 -> []\n",
            "[29] <- 30 -> [100]\n",
            "[] <- 13 -> []\n",
            "[] <- 29 -> []\n",
            "[] <- 100 -> []\n"
          ]
        }
      ]
    },
    {
      "cell_type": "markdown",
      "source": [
        "ヒープ構造\n",
        "\n",
        "データの最小値・最大値を知りたい時に便利なデータ構造．\n",
        "\n",
        "ヒープは完全二分木で表現される．\n",
        "木の高さをhとした時，ノード数は2^(h+1)-1にならない時は左から順に葉が並ぶ．\n",
        "\n",
        "ヒープの更新\n",
        "\n",
        "ヒープは完全二分木であるため，頂点の数をnとすると深さはlog(n)となる．\n",
        "大小関係の矛盾を解決するためのステップは根から葉に到達するまでで良いため，計算量はO(logn)．\n",
        "\n",
        "入力サイズをnとした場合のヒープソートの計算量は，ヒープの作成にO(n)，各ステップでヒープの更新があり，その計算量はO(logn)．要素がn個あるのでn(nlogn)．\n"
      ],
      "metadata": {
        "id": "rHoFww4L8tdh"
      }
    },
    {
      "cell_type": "markdown",
      "source": [
        "ヒープソート\n",
        "\n"
      ],
      "metadata": {
        "id": "MX2-og9r-2lQ"
      }
    },
    {
      "cell_type": "code",
      "source": [
        "import heapq\n",
        "\n",
        "def heap_sort(array):\n",
        "  heap = []\n",
        "  for v in array:\n",
        "    heapq.heappush(heap, v)\n",
        "  return [heapq.heappop(heap) for i in range((len(heap)))]\n"
      ],
      "metadata": {
        "id": "RuMRuw6rIX3m"
      },
      "execution_count": null,
      "outputs": []
    },
    {
      "cell_type": "code",
      "source": [
        "test_array4 = [random.randint(0, 100) for i in range(10)]\n",
        "print(test_array4)\n",
        "\n",
        "print(heap_sort(test_array4))"
      ],
      "metadata": {
        "colab": {
          "base_uri": "https://localhost:8080/"
        },
        "id": "4S_V9mFWItoy",
        "outputId": "f07355d2-a6ab-4ac9-cd72-0d1f479170a7"
      },
      "execution_count": null,
      "outputs": [
        {
          "output_type": "stream",
          "name": "stdout",
          "text": [
            "[49, 79, 48, 13, 84, 7, 43, 30, 88, 11]\n",
            "[7, 11, 13, 30, 43, 48, 49, 79, 84, 88]\n"
          ]
        }
      ]
    },
    {
      "cell_type": "markdown",
      "source": [
        "ハッシュを使った探索とハッシュテーブルの構造\n",
        "\n",
        "ハッシュテーブル：データの探索を高速に行うためのデータ構造\n",
        "\n",
        "データのハッシュ値を計算しその値に応じた場所にデータを格納する\n",
        "\n",
        "→計算量はデータのサイズによらずO(1)"
      ],
      "metadata": {
        "id": "u1K-RuXCPxr-"
      }
    },
    {
      "cell_type": "code",
      "source": [
        "#ハッシュテーブル\n",
        "class HashTable:\n",
        "  def __init__(self, table_size=100):\n",
        "    #テーブルのサイズを変数で変更できる\n",
        "    self.data = [[] for i in range(table_size)]\n",
        "    self.n = table_size\n",
        "\n",
        "  def get_hash(self, v):\n",
        "    #オブジェクトのハッシュ値を計算する\n",
        "    return hash(v) % self.n\n",
        "  \n",
        "  def search(self, key):\n",
        "    #keyを使用して値を探す\n",
        "    i = self.get_hash(key)\n",
        "    for j, v in enumerate(self.data[i]):\n",
        "      if v[0] == key:\n",
        "        return (i, j)\n",
        "    return (i, -1)\n",
        "  \n",
        "  def set(self, key, value):\n",
        "    #データを格納する場所を探す\n",
        "    i, j = self.search(key)\n",
        "    if j != -1:\n",
        "      self.dta[i][j][1] = value\n",
        "    else:\n",
        "      self.data[i].append([key, value])\n",
        "  \n",
        "  def get(self, key):\n",
        "    i, j = self.search(key)\n",
        "    if j != -1:\n",
        "      return self.data[i][j][1]\n",
        "    return KeyError(f'{key} was not fount in this HashTable!')"
      ],
      "metadata": {
        "id": "cNrntXGIPxRq"
      },
      "execution_count": 5,
      "outputs": []
    },
    {
      "cell_type": "code",
      "source": [
        "test_hash_table = HashTable()\n",
        "test_hash_table.set(\"taro\", 10)\n",
        "print(test_hash_table.get(\"taro\"))"
      ],
      "metadata": {
        "colab": {
          "base_uri": "https://localhost:8080/"
        },
        "id": "1HhXhGFz_MCs",
        "outputId": "d65db113-380e-487a-a973-525cdf0c95ca"
      },
      "execution_count": 7,
      "outputs": [
        {
          "output_type": "stream",
          "name": "stdout",
          "text": [
            "10\n"
          ]
        }
      ]
    }
  ]
}