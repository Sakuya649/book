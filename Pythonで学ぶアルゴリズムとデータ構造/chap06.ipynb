{
  "nbformat": 4,
  "nbformat_minor": 0,
  "metadata": {
    "colab": {
      "name": "chap06.ipynb",
      "provenance": [],
      "authorship_tag": "ABX9TyOV55sjkWK+hkvtcErITopb"
    },
    "kernelspec": {
      "name": "python3",
      "display_name": "Python 3"
    },
    "language_info": {
      "name": "python"
    }
  },
  "cells": [
    {
      "cell_type": "markdown",
      "source": [
        "グラフの基礎\n",
        "\n",
        "グラフ：”頂点(vertex)”と”辺(edge)”から構成される．\n",
        "\n",
        "※頂点は”節点(node)”，辺は”弧(arc)”，”リンク(link)”，”枝(branch)”などとも呼ばれる\n",
        "\n",
        "ある2つの頂点が1つの辺でつながる時，2つの頂点は隣接している\n",
        "\n",
        "ある辺の両端の頂点：端点(endpoint)\n",
        "\n",
        "ある頂点から出ている辺の数：次数(degree)\n",
        "\n",
        "ある2つの頂点を結ぶ辺の集合：道(path)\n",
        "\n",
        "全ての頂点の間に道があるグラフ：連結グラフ(connected graph)\n",
        "\n",
        "全ての頂点ペアについてそれらを結ぶ道が1つしかないグラフ：木(tree)\n",
        "\n",
        "ある頂点からいくつかの頂点を経て元の頂点に戻ってくる道がある：閉路(cycle)\n",
        "\n",
        "いくつかの木で構成されるグラフ：森(forest)\n",
        "\n",
        "辺に向きがあるグラフ：有向グラフ(directed graph)\n",
        "\n",
        "辺に向きがないグラフ：無向グラフ(undirected graph)"
      ],
      "metadata": {
        "id": "UbPXlR1uB24Q"
      }
    },
    {
      "cell_type": "code",
      "source": [
        "#Pythonで使えるグラフのための外部パッケージ\n",
        "import networkx as nx\n",
        "import matplotlib.pyplot as plt\n",
        "graph = nx.Graph()\n",
        "graph.add_edge(5, 6)\n",
        "graph.add_edge(6, 7)\n",
        "nx.draw_networkx(graph)\n",
        "plt.show()"
      ],
      "metadata": {
        "colab": {
          "base_uri": "https://localhost:8080/",
          "height": 248
        },
        "id": "3vU1hF3UFop2",
        "outputId": "25fae41c-62ee-49df-ec12-c43e2119c92f"
      },
      "execution_count": null,
      "outputs": [
        {
          "output_type": "display_data",
          "data": {
            "image/png": "[encoded data removed]",
            "text/plain": [
              "<Figure size 432x288 with 1 Axes>"
            ]
          },
          "metadata": {}
        }
      ]
    },
    {
      "cell_type": "code",
      "source": [
        "#ランダムなグラフの作成\n",
        "import random\n",
        "\n",
        "def generate_graph(n, m):\n",
        "  #nこの頂点とm個の辺を持つグラフ\n",
        "  graph_data = [[0] * n for i in range(n)]\n",
        "  edge_set = set()\n",
        "  while len(edge_set) < m:\n",
        "    i, j = random.sample(range(n), 2)\n",
        "    if i > j: i, j = j, i\n",
        "    edge_set.add((i, j))\n",
        "    graph_data[i][j] = graph_data[j][i] = 1\n",
        "  return graph_data, edge_set\n",
        "\n"
      ],
      "metadata": {
        "id": "YnPtphIxGEHk"
      },
      "execution_count": 64,
      "outputs": []
    },
    {
      "cell_type": "code",
      "source": [
        "random.seed(6)\n",
        "node_num = 16\n",
        "edge_num = 20\n",
        "test_graph, edge_set = generate_graph(node_num, edge_num)\n",
        "edge_set"
      ],
      "metadata": {
        "colab": {
          "base_uri": "https://localhost:8080/"
        },
        "id": "oJffNema8wID",
        "outputId": "c052453d-6754-40db-f697-330ff7105064"
      },
      "execution_count": 77,
      "outputs": [
        {
          "output_type": "execute_result",
          "data": {
            "text/plain": [
              "{(0, 2),\n",
              " (0, 4),\n",
              " (0, 8),\n",
              " (1, 9),\n",
              " (2, 5),\n",
              " (2, 7),\n",
              " (2, 13),\n",
              " (3, 12),\n",
              " (3, 15),\n",
              " (5, 11),\n",
              " (5, 13),\n",
              " (6, 8),\n",
              " (6, 11),\n",
              " (6, 13),\n",
              " (7, 8),\n",
              " (7, 11),\n",
              " (8, 10),\n",
              " (12, 13),\n",
              " (12, 15),\n",
              " (13, 14)}"
            ]
          },
          "metadata": {},
          "execution_count": 77
        }
      ]
    },
    {
      "cell_type": "code",
      "source": [
        "#作成したグラフの表示\n",
        "graph1 = nx.Graph()\n",
        "for u,v in edge_set:\n",
        "    graph1.add_edge(u, v)\n",
        "nx.draw_networkx(graph1)"
      ],
      "metadata": {
        "colab": {
          "base_uri": "https://localhost:8080/",
          "height": 248
        },
        "id": "G2ULnK-b8911",
        "outputId": "2c3cd500-e6e5-4846-ce63-168992e097e6"
      },
      "execution_count": 66,
      "outputs": [
        {
          "output_type": "display_data",
          "data": {
            "image/png": "[encoded data removed]",
            "text/plain": [
              "<Figure size 432x288 with 1 Axes>"
            ]
          },
          "metadata": {}
        }
      ]
    },
    {
      "cell_type": "code",
      "source": [
        "#隣接行列の表示\n",
        "test_graph"
      ],
      "metadata": {
        "colab": {
          "base_uri": "https://localhost:8080/"
        },
        "id": "162ESfUY8_hA",
        "outputId": "239c891f-5d6a-40fc-986d-e4fab685399b"
      },
      "execution_count": 67,
      "outputs": [
        {
          "output_type": "execute_result",
          "data": {
            "text/plain": [
              "[[0, 0, 1, 0, 1, 0, 0, 0, 1, 0, 0, 0, 0, 0, 0, 0],\n",
              " [0, 0, 0, 0, 0, 0, 0, 0, 0, 1, 0, 0, 0, 0, 0, 0],\n",
              " [1, 0, 0, 0, 0, 1, 0, 1, 0, 0, 0, 0, 0, 1, 0, 0],\n",
              " [0, 0, 0, 0, 0, 0, 0, 0, 0, 0, 0, 0, 1, 0, 0, 1],\n",
              " [1, 0, 0, 0, 0, 0, 0, 0, 0, 0, 0, 0, 0, 0, 0, 0],\n",
              " [0, 0, 1, 0, 0, 0, 0, 0, 0, 0, 0, 1, 0, 1, 0, 0],\n",
              " [0, 0, 0, 0, 0, 0, 0, 0, 1, 0, 0, 1, 0, 1, 0, 0],\n",
              " [0, 0, 1, 0, 0, 0, 0, 0, 1, 0, 0, 1, 0, 0, 0, 0],\n",
              " [1, 0, 0, 0, 0, 0, 1, 1, 0, 0, 1, 0, 0, 0, 0, 0],\n",
              " [0, 1, 0, 0, 0, 0, 0, 0, 0, 0, 0, 0, 0, 0, 0, 0],\n",
              " [0, 0, 0, 0, 0, 0, 0, 0, 1, 0, 0, 0, 0, 0, 0, 0],\n",
              " [0, 0, 0, 0, 0, 1, 1, 1, 0, 0, 0, 0, 0, 0, 0, 0],\n",
              " [0, 0, 0, 1, 0, 0, 0, 0, 0, 0, 0, 0, 0, 1, 0, 1],\n",
              " [0, 0, 1, 0, 0, 1, 1, 0, 0, 0, 0, 0, 1, 0, 1, 0],\n",
              " [0, 0, 0, 0, 0, 0, 0, 0, 0, 0, 0, 0, 0, 1, 0, 0],\n",
              " [0, 0, 0, 1, 0, 0, 0, 0, 0, 0, 0, 0, 1, 0, 0, 0]]"
            ]
          },
          "metadata": {},
          "execution_count": 67
        }
      ]
    },
    {
      "cell_type": "markdown",
      "source": [
        "連結グラフを探索する\n",
        "\n",
        "幅優先探索：近いところから順に到達できる頂点を探し尽くす\n",
        "\n",
        "深さ優先探索：行けるところまで行って戻ってくる\n",
        "\n",
        "キューについて(幅優先ではキューを使用する)\n",
        "\n",
        "キュー：データの待ち行列\n",
        "\n",
        "→データの先頭から順に処理が行われ，全ての処理が終わるとキューは空になる(FIFO)\n",
        "\n",
        "pythonのリストを使った場合，先頭の要素を取り除く処理にO(n)がかかる．collectionsのdequeはその処理を効率化したもの"
      ],
      "metadata": {
        "id": "HgQHnkLQ9NQ3"
      }
    },
    {
      "cell_type": "code",
      "source": [
        "from collections import deque\n",
        "\n",
        "queue = deque([])\n",
        "queue.append(1)\n",
        "queue.append(2)\n",
        "queue.append(3)\n",
        "print(queue)\n",
        "\n",
        "print(queue.popleft())\n",
        "print(queue)"
      ],
      "metadata": {
        "colab": {
          "base_uri": "https://localhost:8080/"
        },
        "id": "RW3lGLJ9_UA_",
        "outputId": "747a2afa-cfec-475b-cf47-aadb518a6415"
      },
      "execution_count": 68,
      "outputs": [
        {
          "output_type": "stream",
          "name": "stdout",
          "text": [
            "deque([1, 2, 3])\n",
            "1\n",
            "deque([2, 3])\n"
          ]
        }
      ]
    },
    {
      "cell_type": "markdown",
      "source": [
        "幅優先探索のアルゴリズム\n",
        "\n",
        "入力：スタートの頂点(v)，グラフを表現する隣接行列\n",
        "\n",
        "出力：頂点vから到達できる全ての頂点\n",
        "\n",
        "1：作業用のキュー(Q)と到達した頂点を保存するためのset(S)を用意し，それぞれにvを追加\n",
        "\n",
        "2：キューから頂点を取り出す\n",
        "\n",
        "3：取り出した頂点の隣にある全てのてんに対して以下の処理をする\n",
        "\n",
        "  Sに入っていなければQとSの両方へ追加する\n",
        "\n",
        "4：QがからならSを出力して終了．そうでなければ2へ"
      ],
      "metadata": {
        "id": "-6Q9oUOFAByB"
      }
    },
    {
      "cell_type": "code",
      "source": [
        "def breadth_first_search(start, W):\n",
        "  #隣接行列Wで表現されるグラフについて，startから到達できるnodeの一覧を返す\n",
        "  work_queue = deque([])\n",
        "  visited = set()\n",
        "  work_queue.append(start)\n",
        "  visited.add(start)\n",
        "  while work_queue:\n",
        "    here = work_queue.popleft()\n",
        "    for i, node in enumerate(W[here]):\n",
        "      if node == 0: continue #隣接したものがない\n",
        "      if i not in visited:\n",
        "        work_queue.append(i)\n",
        "        visited.add(i)\n",
        "  return visited"
      ],
      "metadata": {
        "id": "WF8TH5bdABeY"
      },
      "execution_count": 63,
      "outputs": []
    },
    {
      "cell_type": "code",
      "source": [
        "breadth_first_search(10, test_graph)"
      ],
      "metadata": {
        "colab": {
          "base_uri": "https://localhost:8080/"
        },
        "id": "Z1SH-bKpBqaC",
        "outputId": "a16c7143-5a4f-4d8b-915d-d200e9b01139"
      },
      "execution_count": 69,
      "outputs": [
        {
          "output_type": "execute_result",
          "data": {
            "text/plain": [
              "{0, 2, 3, 4, 5, 6, 7, 8, 10, 11, 12, 13, 14, 15}"
            ]
          },
          "metadata": {},
          "execution_count": 69
        }
      ]
    },
    {
      "cell_type": "markdown",
      "source": [
        "スタックについて(深さ優先探索ではスタックを使用する)\n",
        "\n",
        "スタック：データの積み重ね\n",
        "\n",
        "→後からきたデータは先に入ったデータの上に積み重なる．最後にスタックに追加されたで0たから処理していく(LIFO)\n",
        "\n",
        "深さ優先探索は，幅優先探索でキューを使っていたところをスタックにすることで実装できる"
      ],
      "metadata": {
        "id": "1ZaZqXmeC655"
      }
    },
    {
      "cell_type": "code",
      "source": [
        "def depth_first_search(start, W):\n",
        "  work_stack = []\n",
        "  visited = set()\n",
        "  work_stack.append(start)\n",
        "  visited.add(start)\n",
        "  while work_stack:\n",
        "    here = work_stack.pop()\n",
        "    for i, node in enumerate(W[here]):\n",
        "      if node == 0: continue\n",
        "      if i not in visited:\n",
        "        work_stack.append(i)\n",
        "        visited.add(i)\n",
        "  return visited"
      ],
      "metadata": {
        "id": "Ag1_HfxfC6uW"
      },
      "execution_count": null,
      "outputs": []
    },
    {
      "cell_type": "code",
      "source": [
        "depth_first_search(10, test_graph)"
      ],
      "metadata": {
        "id": "lna1H1S_EM8s",
        "outputId": "c54e7952-fb2a-40e2-b487-cb6bc6db1d13",
        "colab": {
          "base_uri": "https://localhost:8080/"
        }
      },
      "execution_count": 71,
      "outputs": [
        {
          "output_type": "execute_result",
          "data": {
            "text/plain": [
              "{0, 2, 3, 4, 5, 6, 7, 8, 10, 11, 12, 13, 14, 15}"
            ]
          },
          "metadata": {},
          "execution_count": 71
        }
      ]
    },
    {
      "cell_type": "markdown",
      "source": [
        "最短距離を求める\n",
        "\n",
        "ダイクストラ法：辺の重みが負でない場合に最短距離を求める．\n",
        "\n",
        "ダイクストラ法の計算量：\n",
        "\n",
        "頂点数をn，辺の数をmをする．ダイクストラは各頂点に到達したとき，ヒープからデータを1つ取り出す．また，各辺に関して緩和が行われるため，ヒープが追加される可能性がある．1回のヒープにかかうr計算量はO(logn)なので，全体としてはO((n+m)logn)\n",
        "\n",
        "頂点と辺の数が同じくらいならO(nlogn)→最も密なグラフを考えるとm=n^2となるので，計算量はO(n^2logn)"
      ],
      "metadata": {
        "id": "pxwgvmYAhgfB"
      }
    },
    {
      "cell_type": "code",
      "source": [
        "import math\n",
        "import heapq\n",
        "\n",
        "def dijkstra(start, W):\n",
        "  #スタートの頂点と隣接行列を受け取り，全ての頂点への最短距離を返す\n",
        "  \n",
        "  #仮の最短距離を∞に設定\n",
        "  distance_list = [math.inf] * len(W)\n",
        "  #自分への距離は0\n",
        "  distance_list[start] = 0\n",
        "  #最短距離が確定した頂点のリスト\n",
        "  done_list = []\n",
        "  #次に処理する頂点を決めるためのヒープ\n",
        "  wait_heap = []\n",
        "  for i, d in enumerate(distance_list):\n",
        "    heapq.heappush(wait_heap, (d, i))\n",
        "  while wait_heap:\n",
        "    p = heapq.heappop(wait_heap)\n",
        "    i = p[1]\n",
        "    if i in done_list:\n",
        "      continue\n",
        "    done_list.append(i)\n",
        "    #iに隣接する全ての頂点に対する処理\n",
        "    for j, x in enumerate(W[i]):\n",
        "      if x == 1 and j not in done_list:\n",
        "        #緩和\n",
        "        d = min(distance_list[j], distance_list[i] + x)\n",
        "        distance_list[j] = d\n",
        "        heapq.heappush(wait_heap, (d, j))\n",
        "  return distance_list\n"
      ],
      "metadata": {
        "id": "wgjy1BC1hdi0"
      },
      "execution_count": 50,
      "outputs": []
    },
    {
      "cell_type": "code",
      "source": [
        "dijkstra(6, test_graph)"
      ],
      "metadata": {
        "colab": {
          "base_uri": "https://localhost:8080/"
        },
        "id": "z_3wqE9Fn8Zg",
        "outputId": "66776b23-beb1-4755-fc88-ccc5016b0310"
      },
      "execution_count": 72,
      "outputs": [
        {
          "output_type": "execute_result",
          "data": {
            "text/plain": [
              "[2, inf, 2, 3, 3, 2, 0, 2, 1, inf, 2, 1, 2, 1, 2, 3]"
            ]
          },
          "metadata": {},
          "execution_count": 72
        }
      ]
    },
    {
      "cell_type": "markdown",
      "source": [
        "全ての頂点間の最短距離\n",
        "\n",
        "ダイクストラ法で全ての頂点間の最短距離を計算した場合\n",
        "\n",
        "→各頂点を出発点としてn回実行する = O(n(n+m)logn)．辺が密であった場合はO(n^3logn)\n",
        "\n",
        "Floyd-Warshall法\n",
        "\n",
        "→O(n^3)で全ての頂点間の最短距離を計算できる．辺の密度が低い時はダイクストラの方が速い．\n",
        "\n",
        "d^(k-1)(u,v)をk-1番目までの頂点だけを考慮に入れている時のuとvの最短距離とする．k番目の頂点についてd^k(u,v)は以下のようになる\n",
        "\n",
        "d^k(u, v) = min{d^(k-1)(u,v), d^(k-1)(u, k)+d^(k-1)(k, v)}"
      ],
      "metadata": {
        "id": "irjIBzV6uDem"
      }
    },
    {
      "cell_type": "code",
      "source": [
        "def all_pairs_shortest_paths(W):\n",
        "    n = len(W) #頂点の数\n",
        "    res = [[0] * n for i in range(n)]\n",
        "    #用意した行列を初期化\n",
        "    for i in range(n):\n",
        "        for j in range(i, n):\n",
        "            if i == j:\n",
        "                val = 0\n",
        "            elif W[i][j]:\n",
        "                val = W[i][j]\n",
        "            else:\n",
        "                val = math.inf\n",
        "            res[i][j] = res[j][i] = val\n",
        "    #動的計画法ですべての頂点間の最短距離を求める\n",
        "    for k in range(n):\n",
        "        for u in range(n):\n",
        "            for v in range(n):\n",
        "                res[u][v] = min(res[u][v], res[u][k] + res[k][v])\n",
        "    return res"
      ],
      "metadata": {
        "id": "L4exQ2Y3uDMt"
      },
      "execution_count": 88,
      "outputs": []
    },
    {
      "cell_type": "code",
      "source": [
        "all_pairs_shortest_paths(test_graph)"
      ],
      "metadata": {
        "colab": {
          "base_uri": "https://localhost:8080/"
        },
        "id": "JI1NQ3bNx8tk",
        "outputId": "dcda1c4d-ede2-4fae-c1dc-f816c60ec08e"
      },
      "execution_count": 89,
      "outputs": [
        {
          "output_type": "execute_result",
          "data": {
            "text/plain": [
              "[[0, inf, 1, 4, 1, 2, 2, 2, 1, inf, 2, 3, 3, 2, 3, 4],\n",
              " [inf, 0, inf, inf, inf, inf, inf, inf, inf, 1, inf, inf, inf, inf, inf, inf],\n",
              " [1, inf, 0, 3, 2, 1, 2, 1, 2, inf, 3, 2, 2, 1, 2, 3],\n",
              " [4, inf, 3, 0, 5, 3, 3, 4, 4, inf, 5, 4, 1, 2, 3, 1],\n",
              " [1, inf, 2, 5, 0, 3, 3, 3, 2, inf, 3, 4, 4, 3, 4, 5],\n",
              " [2, inf, 1, 3, 3, 0, 2, 2, 3, inf, 4, 1, 2, 1, 2, 3],\n",
              " [2, inf, 2, 3, 3, 2, 0, 2, 1, inf, 2, 1, 2, 1, 2, 3],\n",
              " [2, inf, 1, 4, 3, 2, 2, 0, 1, inf, 2, 1, 3, 2, 3, 4],\n",
              " [1, inf, 2, 4, 2, 3, 1, 1, 0, inf, 1, 2, 3, 2, 3, 4],\n",
              " [inf, 1, inf, inf, inf, inf, inf, inf, inf, 0, inf, inf, inf, inf, inf, inf],\n",
              " [2, inf, 3, 5, 3, 4, 2, 2, 1, inf, 0, 3, 4, 3, 4, 5],\n",
              " [3, inf, 2, 4, 4, 1, 1, 1, 2, inf, 3, 0, 3, 2, 3, 4],\n",
              " [3, inf, 2, 1, 4, 2, 2, 3, 3, inf, 4, 3, 0, 1, 2, 1],\n",
              " [2, inf, 1, 2, 3, 1, 1, 2, 2, inf, 3, 2, 1, 0, 1, 2],\n",
              " [3, inf, 2, 3, 4, 2, 2, 3, 3, inf, 4, 3, 2, 1, 0, 3],\n",
              " [4, inf, 3, 1, 5, 3, 3, 4, 4, inf, 5, 4, 1, 2, 3, 0]]"
            ]
          },
          "metadata": {},
          "execution_count": 89
        }
      ]
    }
  ]
}