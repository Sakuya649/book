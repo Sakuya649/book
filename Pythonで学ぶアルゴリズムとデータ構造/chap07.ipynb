{
  "nbformat": 4,
  "nbformat_minor": 0,
  "metadata": {
    "colab": {
      "name": "chap07.ipynb",
      "provenance": [],
      "authorship_tag": "ABX9TyORRPxvjJ66tA9gkSIh/pjs"
    },
    "kernelspec": {
      "name": "python3",
      "display_name": "Python 3"
    },
    "language_info": {
      "name": "python"
    }
  },
  "cells": [
    {
      "cell_type": "markdown",
      "source": [
        "ナップサック問題問題\n",
        "\n",
        "入れられる品物の重さの合計に制限があるナップサックがある．それぞれ重さと値段がついた品物がn個あるとき，ナップサックに入るものの価値を最大にする組み合わせを求める．"
      ],
      "metadata": {
        "id": "AYs6MnBMh5b7"
      }
    },
    {
      "cell_type": "code",
      "execution_count": 1,
      "metadata": {
        "id": "eV6xtLMChm08"
      },
      "outputs": [],
      "source": [
        "#品物のリストを作る\n",
        "from collections import namedtuple\n",
        "import random\n",
        "\n",
        "random.seed(7)\n",
        "Item = namedtuple(\"Item\", (\"name\", \"weight\", \"price\"))\n",
        "num = 20\n",
        "item_list = []\n",
        "max_weight = 5\n",
        "max_price = 50\n",
        "\n",
        "price_list = list(range(1, max_price+1))\n",
        "random.shuffle(price_list)\n",
        "\n",
        "for i in range(num):\n",
        "  w = random.randint(1, max_weight)\n",
        "  item = Item(i, w, price_list.pop())\n",
        "  item_list.append(item)"
      ]
    },
    {
      "cell_type": "code",
      "source": [
        "item_list"
      ],
      "metadata": {
        "colab": {
          "base_uri": "https://localhost:8080/"
        },
        "id": "VKW2pdExoEgV",
        "outputId": "e56e04ae-2f18-4709-ec96-5e0aeeee818f"
      },
      "execution_count": 2,
      "outputs": [
        {
          "output_type": "execute_result",
          "data": {
            "text/plain": [
              "[Item(name=0, weight=3, price=21),\n",
              " Item(name=1, weight=1, price=10),\n",
              " Item(name=2, weight=5, price=26),\n",
              " Item(name=3, weight=1, price=42),\n",
              " Item(name=4, weight=5, price=4),\n",
              " Item(name=5, weight=1, price=5),\n",
              " Item(name=6, weight=5, price=35),\n",
              " Item(name=7, weight=2, price=7),\n",
              " Item(name=8, weight=4, price=24),\n",
              " Item(name=9, weight=5, price=38),\n",
              " Item(name=10, weight=4, price=46),\n",
              " Item(name=11, weight=3, price=33),\n",
              " Item(name=12, weight=4, price=14),\n",
              " Item(name=13, weight=5, price=3),\n",
              " Item(name=14, weight=4, price=6),\n",
              " Item(name=15, weight=3, price=28),\n",
              " Item(name=16, weight=3, price=27),\n",
              " Item(name=17, weight=2, price=45),\n",
              " Item(name=18, weight=2, price=16),\n",
              " Item(name=19, weight=2, price=37)]"
            ]
          },
          "metadata": {},
          "execution_count": 2
        }
      ]
    },
    {
      "cell_type": "code",
      "source": [
        "#knapsackクラス\n",
        "class Knapsack:\n",
        "  def __init__(self, size):\n",
        "    self.size = size\n",
        "    self.weight = 0\n",
        "    self.value = 0\n",
        "    self.items = []\n",
        "\n",
        "  def append(self, item):\n",
        "    #ナップサックにアイテムを追加する\n",
        "    if not self.has_room_for(item):\n",
        "      raise ValueError(\"個のアイテムは入れられません．重量オーバーですです\")\n",
        "    self.items.append(item)\n",
        "    self.weight += item.weight\n",
        "    self.value += item.price\n",
        "\n",
        "  def has_room_for(self, item):\n",
        "    return self.size >= self.weight + item.weight\n",
        "  \n",
        "  def __str__(self):\n",
        "    val = \"重さ{}kg / 価格{}万円\".format(self.weight, self.value)\n",
        "    return val"
      ],
      "metadata": {
        "id": "Q9G6a921oKfK"
      },
      "execution_count": 16,
      "outputs": []
    },
    {
      "cell_type": "markdown",
      "source": [
        "貪欲法\n",
        "\n",
        "値段を重さで割って降順にソートし，上から順に入るだけ詰めていく．"
      ],
      "metadata": {
        "id": "Lvphml-vt7tP"
      }
    },
    {
      "cell_type": "code",
      "source": [
        "def greedy(item, size_limit):\n",
        "  sorted_item_list = sorted(item, key=lambda x: x.price/x.weight, reverse=True)\n",
        "  my_knapsack = Knapsack(size_limit)\n",
        "  for v in sorted_item_list:\n",
        "    #入る余地があるなら品物を入れる\n",
        "    try:\n",
        "      my_knapsack.append(v)\n",
        "    except ValueError:\n",
        "      continue\n",
        "  return my_knapsack"
      ],
      "metadata": {
        "id": "EEJhGjA4uhYa"
      },
      "execution_count": 4,
      "outputs": []
    },
    {
      "cell_type": "code",
      "source": [
        "knap_g = greedy(item_list, 40)\n",
        "print(knap_g)"
      ],
      "metadata": {
        "colab": {
          "base_uri": "https://localhost:8080/"
        },
        "id": "uxR6yllo1aFS",
        "outputId": "2eed0278-65e8-4c08-ef5c-b90404a15b4e"
      },
      "execution_count": 7,
      "outputs": [
        {
          "output_type": "stream",
          "name": "stdout",
          "text": [
            "重さ39kg / 価格407万円\n"
          ]
        }
      ]
    },
    {
      "cell_type": "code",
      "source": [
        "knap_g.items"
      ],
      "metadata": {
        "colab": {
          "base_uri": "https://localhost:8080/"
        },
        "id": "CQvSktdq1p06",
        "outputId": "c1f6178e-a896-4499-e28a-283ad7aa9162"
      },
      "execution_count": 8,
      "outputs": [
        {
          "output_type": "execute_result",
          "data": {
            "text/plain": [
              "[Item(name=3, weight=1, price=42),\n",
              " Item(name=17, weight=2, price=45),\n",
              " Item(name=19, weight=2, price=37),\n",
              " Item(name=10, weight=4, price=46),\n",
              " Item(name=11, weight=3, price=33),\n",
              " Item(name=1, weight=1, price=10),\n",
              " Item(name=15, weight=3, price=28),\n",
              " Item(name=16, weight=3, price=27),\n",
              " Item(name=18, weight=2, price=16),\n",
              " Item(name=9, weight=5, price=38),\n",
              " Item(name=0, weight=3, price=21),\n",
              " Item(name=6, weight=5, price=35),\n",
              " Item(name=8, weight=4, price=24),\n",
              " Item(name=5, weight=1, price=5)]"
            ]
          },
          "metadata": {},
          "execution_count": 8
        }
      ]
    },
    {
      "cell_type": "markdown",
      "source": [
        "力づくの方法\n",
        "\n",
        "20個の品物がナップサックに入るかどうかの組み合わせは2^20個ある．これを全て試す．\n",
        "\n",
        "組合せ爆発：問題の入力サイズnに対して可能な解の個数が指数関数や階乗など，多項式と比べて爆発的に増えていく状態の総称\n",
        "\n",
        "→組み合わせ爆発が起こるような問題については，最適解を諦め最適解の良い近似を求める近似アルゴリズムを使う"
      ],
      "metadata": {
        "id": "Y3DjRcUS1wzY"
      }
    },
    {
      "cell_type": "code",
      "source": [
        "import itertools\n",
        "\n",
        "def brute_force(items, size_limit):\n",
        "  candidate = None\n",
        "  for pattern in itertools.product((0, 1), repeat=len(items)):\n",
        "    my_box = []\n",
        "    for i, val in enumerate(pattern):\n",
        "      if val:\n",
        "        my_box.append(item_list[i])\n",
        "    w = sum([item.weight for item in my_box])\n",
        "    if w > size_limit:\n",
        "      continue\n",
        "    value = sum([item.price for item in my_box])\n",
        "    if candidate is None or value > candidate.value:\n",
        "      knapsack = Knapsack(size_limit)\n",
        "      for v in my_box:\n",
        "        knapsack.append(v)\n",
        "      candidate = knapsack\n",
        "  return candidate"
      ],
      "metadata": {
        "id": "PaaOh7nV2-CT"
      },
      "execution_count": 14,
      "outputs": []
    },
    {
      "cell_type": "code",
      "source": [
        "knap_bf = brute_force(item_list, 40)\n",
        "print(knap_bf)"
      ],
      "metadata": {
        "colab": {
          "base_uri": "https://localhost:8080/"
        },
        "id": "Emblebgi4Mda",
        "outputId": "c81b9eef-e4d0-484a-d6ef-f30907691849"
      },
      "execution_count": 15,
      "outputs": [
        {
          "output_type": "stream",
          "name": "stdout",
          "text": [
            "重さ40kg / 価格409万円\n"
          ]
        }
      ]
    },
    {
      "cell_type": "markdown",
      "source": [
        "ナップサック問題での最適解\n",
        "\n",
        "動的計画法を用いた擬多項式時間アルゴリズムと呼ばれる方法で最適解を求めることができる\n",
        "\n",
        "動的計画法による計算時間：\n",
        "\n",
        "品物の数をn，ナップサックの容量をmとした場合の計算は(n+1)*(m=1)の表を更新することに等しい．従って計算量はO(nm)"
      ],
      "metadata": {
        "id": "2L5qb56RaPXx"
      }
    },
    {
      "cell_type": "code",
      "source": [
        "#動的計画法を使った実装\n",
        "def dp(items, size_limit):\n",
        "    n = len(items)\n",
        "    # 価値を記録する表を作成 （行が品物、列が許容サイズ）\n",
        "    table = [[0]*(size_limit+1) for i in range(n+1)]\n",
        "    # 価値を更新したかどうかを記録するための表\n",
        "    flag = [[False]*(size_limit+1) for i in range(n+1)]\n",
        "    for i in range(1, n+1):\n",
        "        target = items[i-1]\n",
        "        w = target.weight\n",
        "        for j in range(1, size_limit+1):\n",
        "            yellow = table[i-1][j]\n",
        "            table[i][j] = yellow\n",
        "            if w > j: continue\n",
        "            pink = table[i-1][j-w]\n",
        "            include_this = target.price + pink\n",
        "            table[i][j] = max(yellow, include_this)\n",
        "            flag[i][j] = include_this > yellow\n",
        "    i = n\n",
        "    j = size_limit\n",
        "    my_knapsack = Knapsack(size_limit)\n",
        "    while i > 0 and j > 0:\n",
        "        if flag[i][j]:\n",
        "            my_knapsack.append(items[i-1])\n",
        "            j -= items[i-1].weight\n",
        "        i -= 1\n",
        "    return my_knapsack"
      ],
      "metadata": {
        "id": "xup03E2d5uwD"
      },
      "execution_count": 22,
      "outputs": []
    },
    {
      "cell_type": "code",
      "source": [
        "knap_dp = dp(item_list, 40)\n",
        "print(knap_dp)"
      ],
      "metadata": {
        "colab": {
          "base_uri": "https://localhost:8080/"
        },
        "id": "V3H7-VdwZZpU",
        "outputId": "6fd014b7-a939-478d-d4e8-355906ac9717"
      },
      "execution_count": 23,
      "outputs": [
        {
          "output_type": "stream",
          "name": "stdout",
          "text": [
            "重さ40kg / 価格409万円\n"
          ]
        }
      ]
    }
  ]
}