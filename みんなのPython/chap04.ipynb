{
  "nbformat": 4,
  "nbformat_minor": 0,
  "metadata": {
    "colab": {
      "name": "chap04.ipynb",
      "provenance": [],
      "collapsed_sections": [],
      "mount_file_id": "1NNoeUgmHK9XQ-KWK2ryAVXAA3ULa-a5N",
      "authorship_tag": "ABX9TyOevduMVLj5+YY526+TZxEZ"
    },
    "kernelspec": {
      "name": "python3",
      "display_name": "Python 3"
    },
    "language_info": {
      "name": "python"
    }
  },
  "cells": [
    {
      "cell_type": "code",
      "metadata": {
        "id": "PmxcC6z6jjWX"
      },
      "source": [
        "import sys"
      ],
      "execution_count": 8,
      "outputs": []
    },
    {
      "cell_type": "markdown",
      "metadata": {
        "id": "7edyj6SJfrRg"
      },
      "source": [
        "P.154 代表的なリスト操作"
      ]
    },
    {
      "cell_type": "code",
      "metadata": {
        "id": "UtLTnKV8yAox",
        "colab": {
          "base_uri": "https://localhost:8080/"
        },
        "outputId": "33999a6f-9f07-4d93-d3e1-ffe1d3aeaf82"
      },
      "source": [
        "cats = [\"園田\", \"三村\", \"戸田\", \"阿部\", \"黒部\", \"三村\"]\n",
        "\n",
        "#三村のインデックスを調べる\n",
        "print(cats.index(\"阿部\"))\n",
        "\n",
        "#ある要素がリストにいくつ含まれているか調べる\n",
        "print(cats.count(\"三村\"))\n",
        "\n",
        "#リスト要素の順番を逆にする\n",
        "cats.reverse()\n",
        "print(cats)\n",
        "\n",
        "#リストの要素を並べ替える\n",
        "cats.sort()\n",
        "print(cats)"
      ],
      "execution_count": 11,
      "outputs": [
        {
          "output_type": "stream",
          "text": [
            "3\n",
            "2\n",
            "['三村', '黒部', '阿部', '戸田', '三村', '園田']\n",
            "['三村', '三村', '園田', '戸田', '阿部', '黒部']\n"
          ],
          "name": "stdout"
        }
      ]
    },
    {
      "cell_type": "markdown",
      "metadata": {
        "id": "dEkNMuFdfvg0"
      },
      "source": [
        "P.162 色々な数値型操作"
      ]
    },
    {
      "cell_type": "code",
      "metadata": {
        "colab": {
          "base_uri": "https://localhost:8080/"
        },
        "id": "3CWYfhlXfqD_",
        "outputId": "4ef5f2d4-712c-4819-eadb-042300d11ea5"
      },
      "source": [
        "#16進数\n",
        "print(0x1ff)\n",
        "\n",
        "#10進数を16進数の文字列に変換\n",
        "print(hex(2021))\n",
        "\n",
        "#16進数相当の文字列を数値に変換\n",
        "print(int(\"0x100\", 16))\n",
        "\n",
        "#2進数\n",
        "print(0b101)\n",
        "\n",
        "#10進数を2進数相当の文字列に変換\n",
        "print(bin(2021))\n",
        "\n",
        "#2進数相当の文字列を数値に変換\n",
        "print(int(\"0b11111111\", 2))\n",
        "\n",
        "#8進数\n",
        "print(0o1234)\n",
        "\n",
        "#10進数を8進数相当の文字列に変換\n",
        "print(oct(888))\n",
        "\n",
        "#8進数相当の文字列を数値に変換\n",
        "print(int(\"0o12345\", 8))\n"
      ],
      "execution_count": 23,
      "outputs": [
        {
          "output_type": "stream",
          "text": [
            "511\n",
            "0x7e5\n",
            "256\n",
            "5\n",
            "0b11111100101\n",
            "255\n",
            "668\n",
            "0o1570\n",
            "5349\n"
          ],
          "name": "stdout"
        }
      ]
    },
    {
      "cell_type": "markdown",
      "metadata": {
        "id": "P5OKL2ICuxzi"
      },
      "source": [
        "P.174 文字列操作"
      ]
    },
    {
      "cell_type": "code",
      "metadata": {
        "colab": {
          "base_uri": "https://localhost:8080/"
        },
        "id": "RXT3oGr5irJG",
        "outputId": "ed3cdc25-1d57-4d54-8152-388563c36618"
      },
      "source": [
        "s = \"ねこのここねこししのここじし\"\n",
        "s2 = \"nekonyan!\"\n",
        "\n",
        "#文字列の検索\n",
        "print(s.find(\"ねこ\"))\n",
        "\n",
        "#文字列の検索2\n",
        "print(s.index(\"こねこ\"))\n",
        "\n",
        "#文字列が検索したい文字列で終わっているかどうか\n",
        "print(s.endswith(\"こじし\"))\n",
        "print(s.endswith(\"ねこ\"))\n",
        "\n",
        "#文字列が検索したい文字列で始まっているかどうか\n",
        "print(s.startswith(\"こじし\"))\n",
        "print(s.startswith(\"ねこ\"))\n",
        "\n",
        "#文字列の連結\n",
        "print(\"?\".join(\"ねこ\"))\n",
        "\n",
        "#文字列の削除\n",
        "\"竹藪焼けたかも\".strip(\"かも\")\n",
        "\n",
        "#アルファベットを大文字に変換\n",
        "s3 = s2.upper()\n",
        "print(s3)\n",
        "\n",
        "#アルファベットを小文字に変換\n",
        "s3 = s3.lower()\n",
        "print(s3)\n",
        "\n",
        "#文字の幅合わせ\n",
        "print(\"123\".ljust(5,\"0\"))\n",
        "print(\"123\".rjust(5,\"0\"))\n",
        "print(\"123\".center(5,\"0\"))"
      ],
      "execution_count": 42,
      "outputs": [
        {
          "output_type": "stream",
          "text": [
            "0\n",
            "4\n",
            "True\n",
            "False\n",
            "False\n",
            "True\n",
            "ね?こ\n",
            "NEKONYAN!\n",
            "nekonyan!\n",
            "12300\n",
            "00123\n",
            "01230\n"
          ],
          "name": "stdout"
        }
      ]
    },
    {
      "cell_type": "markdown",
      "metadata": {
        "id": "qY3gxWZTqAbA"
      },
      "source": [
        "P.177 フォーマットのあれこれ"
      ]
    },
    {
      "cell_type": "code",
      "metadata": {
        "colab": {
          "base_uri": "https://localhost:8080/"
        },
        "id": "rL-Xuvp1qCJ8",
        "outputId": "b766cdb8-3cc0-4fab-ad12-7fa51d51b6e2"
      },
      "source": [
        "#フォーマットに文字を差し込む\n",
        "print(\"{} はかわいい！\".format(\"ねこ\"))\n",
        "\n",
        "#複数を同時に差し込む\n",
        "linkstr = '<a href=\"{}\">{}</a>'\n",
        "for i in [\"http://python.org\",\n",
        "          \"http://pypy.org\",\n",
        "          \"http://cython.org\"]:\n",
        "  print(linkstr.format(i, i.replace(\"https://\", \"\")))\n",
        "\n",
        "print(\"{0} {1} {1}\".format(\"ねこ\", \"にゃん\"))\n",
        "print(\"{word1} {word2} {word2}\".format(word1 = \"neko\", word2 = \"nyan\"))\n",
        "\n",
        "d = {\"name\": \"三村\", \"birthday\" : \"11月22日\"}\n",
        "print(\"{0[birthday]} は　{0[name]} くんの誕生日です！\".format(d))\n",
        "\n",
        "print(\"Python version: {0.version}\".format(sys))\n",
        "\n",
        "#1つ目の要素を左寄せ，2つ目の要素を右寄せ\n",
        "tmp1 = \"{0:10}{1:>8}\"\n",
        "print(tmp1.format(\"spam\", 300))\n",
        "\n",
        "#f文字列\n",
        "name = \"三村\"\n",
        "dream = \"イースト菌\"\n",
        "print(f\"{name}くんの将来の夢は{dream}!\")"
      ],
      "execution_count": 13,
      "outputs": [
        {
          "output_type": "stream",
          "text": [
            "ねこ はかわいい！\n",
            "<a href=\"http://python.org\">http://python.org</a>\n",
            "<a href=\"http://pypy.org\">http://pypy.org</a>\n",
            "<a href=\"http://cython.org\">http://cython.org</a>\n",
            "ねこ にゃん にゃん\n",
            "neko nyan nyan\n",
            "11月22日 は　三村 くんの誕生日です！\n",
            "Python version: 3.7.11 (default, Jul  3 2021, 18:01:19) \n",
            "[GCC 7.5.0]\n",
            "spam           300\n",
            "三村くんの将来の夢はイースト菌!\n"
          ],
          "name": "stdout"
        }
      ]
    },
    {
      "cell_type": "markdown",
      "metadata": {
        "id": "qvk7D9pxnCX0"
      },
      "source": [
        "P.182 リスト，スライスあれこれ"
      ]
    },
    {
      "cell_type": "code",
      "metadata": {
        "colab": {
          "base_uri": "https://localhost:8080/"
        },
        "id": "PcCfaLKSnCIl",
        "outputId": "4804906f-20a5-441f-dc48-498777741a71"
      },
      "source": [
        "cats = [\"園田\", \"三村\", \"戸田\", \"阿部\", \"黒部\"]\n",
        "print(cats)\n",
        "#昇順ソート\n",
        "cats.sort()\n",
        "print(cats)\n",
        "#降順ソート\n",
        "cats.sort(reverse=True)\n",
        "print(cats)\n",
        "\n",
        "a = [0, 1, 2, 3, 4]\n",
        "print(a[1:4])\n",
        "#範囲外を指定してもエラーにならない\n",
        "print(a[2:100])\n",
        "#3番目の引数に値を入れるとステップ数になる\n",
        "print(a[::2])\n",
        "\n",
        "#スライスを使った要素の代入\n",
        "a[2:4] = [\"two\", \"three\", \"four\"]\n",
        "print(a)\n",
        "\n",
        "#スライスを使った要素の削除\n",
        "del a[2:]\n",
        "print(a)\n",
        "\n",
        "#リストのメソッド\n",
        "l=[\"a\", \"b\", \"c\", \"d\", \"e\"]\n",
        "\n",
        "#並び順を逆にする\n",
        "l.reverse()\n",
        "print(l)\n",
        "l.reverse()\n",
        "#要素を削除する\n",
        "l.remove(\"c\")\n",
        "print(l)\n",
        "#リストの末尾に要素を追加する\n",
        "l.append(\"f\")\n",
        "print(l)\n",
        "#リストの末尾にシーケンスを追加\n",
        "l.extend([\"g\", \"h\"])\n",
        "print(l)\n",
        "#要素を取り除き，削除したものを返す\n",
        "print(l.pop(1))\n",
        "print(l)"
      ],
      "execution_count": 15,
      "outputs": [
        {
          "output_type": "stream",
          "text": [
            "['園田', '三村', '戸田', '阿部', '黒部']\n",
            "['三村', '園田', '戸田', '阿部', '黒部']\n",
            "['黒部', '阿部', '戸田', '園田', '三村']\n",
            "[1, 2, 3]\n",
            "[2, 3, 4]\n",
            "[0, 2, 4]\n",
            "[0, 1, 'two', 'three', 'four', 4]\n",
            "[0, 1]\n",
            "['e', 'd', 'c', 'b', 'a']\n",
            "['a', 'b', 'd', 'e']\n",
            "['a', 'b', 'd', 'e', 'f']\n",
            "['a', 'b', 'd', 'e', 'f', 'g', 'h']\n",
            "b\n",
            "['a', 'd', 'e', 'f', 'g', 'h']\n"
          ],
          "name": "stdout"
        }
      ]
    }
  ]
}