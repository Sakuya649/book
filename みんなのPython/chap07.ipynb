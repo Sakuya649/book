{
  "nbformat": 4,
  "nbformat_minor": 0,
  "metadata": {
    "colab": {
      "name": "chap07.ipynb",
      "provenance": [],
      "mount_file_id": "17oWXUIeDzw9okHK-A1oZ4zZXqCJCIJUd",
      "authorship_tag": "ABX9TyO/qOJcNhOqAfd8pCNuiUO4"
    },
    "kernelspec": {
      "name": "python3",
      "display_name": "Python 3"
    },
    "language_info": {
      "name": "python"
    }
  },
  "cells": [
    {
      "cell_type": "markdown",
      "metadata": {
        "id": "xifziOAQmbVv"
      },
      "source": [
        "P.277 スーパークラスの指定"
      ]
    },
    {
      "cell_type": "code",
      "metadata": {
        "id": "WFBTeQ0XOEKV"
      },
      "source": [
        "class Prisum:\n",
        "  def __init__(self, width, height, depth, unit=\"cm\"):\n",
        "    self.width = width\n",
        "    self.height = height\n",
        "    self.depth = depth\n",
        "    self.unit = unit\n",
        "\n",
        "  def content(self):\n",
        "    return self.width * self.height * self.depth * self.depth\n",
        "  def unit_content(self):\n",
        "    return str(self.content()) + self.unit"
      ],
      "execution_count": 13,
      "outputs": []
    },
    {
      "cell_type": "markdown",
      "metadata": {
        "id": "JnBcDI62Teel"
      },
      "source": [
        "スーパークラスを指定する\n",
        "\n",
        "class名の後ろの（）内に継承したいクラス（スーパークラス）を記載\n",
        "\n",
        "多重継承するときはカンマで区切る\n"
      ]
    },
    {
      "cell_type": "code",
      "metadata": {
        "colab": {
          "base_uri": "https://localhost:8080/"
        },
        "id": "CAYOPsJ6TfsH",
        "outputId": "3a07dad6-111a-4681-caad-1a0cb2989e34"
      },
      "source": [
        "class Cube(Prisum):\n",
        "  def __init__(self, length):\n",
        "    self.width = self.height = self.depth = length\n",
        "\n",
        "c = Cube(20)\n",
        "c.content()"
      ],
      "execution_count": 14,
      "outputs": [
        {
          "output_type": "execute_result",
          "data": {
            "text/plain": [
              "160000"
            ]
          },
          "metadata": {},
          "execution_count": 14
        }
      ]
    }
  ]
}