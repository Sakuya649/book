{
  "nbformat": 4,
  "nbformat_minor": 0,
  "metadata": {
    "colab": {
      "name": "chap06.ipynb",
      "provenance": [],
      "collapsed_sections": [],
      "mount_file_id": "1XkfkeeVbCyUFzVcfXotaJBoji0le6MUs",
      "authorship_tag": "ABX9TyP4f+3AHxJi70c9us0Mku2h"
    },
    "kernelspec": {
      "name": "python3",
      "display_name": "Python 3"
    },
    "language_info": {
      "name": "python"
    }
  },
  "cells": [
    {
      "cell_type": "markdown",
      "metadata": {
        "id": "dKjBzSv_0E7b"
      },
      "source": [
        "P.255 オブジェクトとクラス"
      ]
    },
    {
      "cell_type": "code",
      "metadata": {
        "colab": {
          "base_uri": "https://localhost:8080/"
        },
        "id": "TFG_lziPxWpf",
        "outputId": "b216e897-5fd8-499f-a37b-a927a8e41936"
      },
      "source": [
        "#クラスからオブジェクト（インスタンス）を作る\n",
        "from decimal import Decimal\n",
        "d = Decimal(10)\n",
        "print(d)\n",
        "print(d+30)\n",
        "\n",
        "#Decimal型を使った比較\n",
        "#0.1*3=0.30000000000000004のため\n",
        "print(0.1 * 3 == 0.3)\n",
        "print(Decimal(\"0.1\")*3 == Decimal(\"0.3\"))\n",
        "print(d.sqrt())\n"
      ],
      "execution_count": 7,
      "outputs": [
        {
          "output_type": "stream",
          "text": [
            "10\n",
            "40\n",
            "False\n",
            "True\n",
            "3.162277660168379331998893544\n"
          ],
          "name": "stdout"
        }
      ]
    },
    {
      "cell_type": "markdown",
      "metadata": {
        "id": "Xp_xwBgV9531"
      },
      "source": [
        "P.259 クラスを作る\n",
        "\n",
        "クラスめいには基本的に大文字で始まる単語を利用する．\n",
        "\n",
        "→関数とクラスが判別しやすくなるため\n",
        "\n",
        "> __init__()以外にもクラスのメソッドは定義できる．クラスを定義したら__init__()と同様第一引数に必ずselfを渡す．\n",
        "\n",
        "アトリビュート：クラス内にあるvalueやheightなど"
      ]
    },
    {
      "cell_type": "code",
      "metadata": {
        "colab": {
          "base_uri": "https://localhost:8080/"
        },
        "id": "M2MU5nEm95o-",
        "outputId": "099e5357-e898-427d-e0f3-df6286fbc509"
      },
      "source": [
        "class MyClass:\n",
        "  def __init__(self):\n",
        "    self.value = 0\n",
        "    print(\"This is __init__() method !\")\n",
        "\n",
        "#インスタンスの作成\n",
        "i = MyClass()\n",
        "print(i.value)\n",
        "i.value = 5\n",
        "print(i.value)\n",
        "\n",
        "class Prisum:\n",
        "  def __init__(self, width, height, depth):\n",
        "    self.width = width\n",
        "    self.height = height\n",
        "    self.depth = depth\n",
        "\n",
        "  def content(self):\n",
        "    return self.width * self.height * self.depth\n",
        "\n",
        "p1 = Prisum(10, 20, 30)\n",
        "print(p1.content())\n",
        "\n",
        "p2 = Prisum(50, 60, 70)\n",
        "print(p2.content())\n",
        "print(p1.height)\n",
        "print(p2.height)\n",
        "\n",
        "#アトリビュートの書き換え\n",
        "p1.height = 50\n",
        "print(p1.content())"
      ],
      "execution_count": 14,
      "outputs": [
        {
          "output_type": "stream",
          "text": [
            "This is __init__() method !\n",
            "0\n",
            "5\n",
            "6000\n",
            "210000\n",
            "20\n",
            "60\n",
            "15000\n"
          ],
          "name": "stdout"
        }
      ]
    },
    {
      "cell_type": "markdown",
      "metadata": {
        "id": "fetValv8Ckk4"
      },
      "source": [
        "アトリビュートの隠蔽（カプセル化）\n",
        ">・アトリビュート名やメソッドの先頭に＿を1つ付ける→クラスの内部だけで利用する\n",
        ">・＿を2つ付ける→より厳しくアクセスを制限したい場合に使用．外部からアトリビュートにアクセスできなくなる．\n",
        "\n",
        "※_をつけた隠蔽は名前を他のものに置き換える擬似的なもので，名前の置き換えルールを知っていれば隠蔽していてもアトリビュートやメソッドにアクセスできる．"
      ]
    }
  ]
}