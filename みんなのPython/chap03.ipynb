{
  "nbformat": 4,
  "nbformat_minor": 0,
  "metadata": {
    "colab": {
      "name": "chap03.ipynb",
      "provenance": [],
      "mount_file_id": "18ZRbEld0anrhCJoO2UP4hTWA7DcmrYxc",
      "authorship_tag": "ABX9TyNND19mEnN+UpY9D6GTnPIk"
    },
    "kernelspec": {
      "name": "python3",
      "display_name": "Python 3"
    },
    "language_info": {
      "name": "python"
    }
  },
  "cells": [
    {
      "cell_type": "markdown",
      "metadata": {
        "id": "jlT1mvyX5f2F"
      },
      "source": [
        "P.114 辞書(ディクショナリ)型"
      ]
    },
    {
      "cell_type": "code",
      "metadata": {
        "colab": {
          "base_uri": "https://localhost:8080/"
        },
        "id": "ttUjXe38w3Xr",
        "outputId": "6f1477dc-3e63-4808-8636-e6442688c0f7"
      },
      "source": [
        "#ディクショナリ型の定義方法\n",
        "sonoda = {\"名前\":\"園田\",\"色\":\"白\",\"好物\":\"マーマレードジャム\"}\n",
        "\n",
        "#要素の抽出\n",
        "print(sonoda[\"名前\"])\n",
        "\n",
        "#要素の確認\n",
        "print(sonoda)\n",
        "\n",
        "#要素の変更\n",
        "sonoda[\"色\"] = \"アイボリー\"\n",
        "print(sonoda)\n",
        "\n",
        "#要素の追加\n",
        "sonoda[\"誕生日\"] = \"1月21日\"\n",
        "sonoda[\"キャッチフレーズ\"] = \"フリーダムキャット\"\n",
        "print(sonoda)\n",
        "\n",
        "#要素の削除\n",
        "del sonoda[\"キャッチフレーズ\"]\n",
        "print(sonoda)\n",
        "\n",
        "#keyを使ったループ\n",
        "for key in sonoda:\n",
        "  print(key, sonoda[key])"
      ],
      "execution_count": 13,
      "outputs": [
        {
          "output_type": "stream",
          "text": [
            "園田\n",
            "{'名前': '園田', '色': '白', '好物': 'マーマレードジャム'}\n",
            "{'名前': '園田', '色': 'アイボリー', '好物': 'マーマレードジャム'}\n",
            "{'名前': '園田', '色': 'アイボリー', '好物': 'マーマレードジャム', '誕生日': '1月21日', 'キャッチフレーズ': 'フリーダムキャット'}\n",
            "{'名前': '園田', '色': 'アイボリー', '好物': 'マーマレードジャム', '誕生日': '1月21日'}\n",
            "名前 園田\n",
            "色 アイボリー\n",
            "好物 マーマレードジャム\n",
            "誕生日 1月21日\n"
          ],
          "name": "stdout"
        }
      ]
    },
    {
      "cell_type": "markdown",
      "metadata": {
        "id": "GoCGMf6b8dbI"
      },
      "source": [
        "P.120 in演算子を使ったキーの存在確認\n",
        "\n",
        "ディクショナリ型におけるin演算子＝キーの検索"
      ]
    },
    {
      "cell_type": "code",
      "metadata": {
        "colab": {
          "base_uri": "https://localhost:8080/"
        },
        "id": "_F3MAR_57nmg",
        "outputId": "0d3ffbf4-2519-4976-b9f9-af532c8eb0a3"
      },
      "source": [
        "def convert_num(num):\n",
        "  roman_num = {1:\"I\", 2:\"II\", 3:\"III\", 4:\"IV\", 5:\"V\"}\n",
        "  if num in roman_num:\n",
        "    return roman_num[num]\n",
        "  else:\n",
        "    return \"該当なし\"\n",
        "\n",
        "print(convert_num(3))\n",
        "print(convert_num(0))"
      ],
      "execution_count": 12,
      "outputs": [
        {
          "output_type": "stream",
          "text": [
            "III\n",
            "該当なし\n"
          ],
          "name": "stdout"
        }
      ]
    },
    {
      "cell_type": "markdown",
      "metadata": {
        "id": "ADIe1bZRBBh1"
      },
      "source": [
        "P.123 set\n",
        "\n",
        "set＝中身が重複しないよう管理される\n"
      ]
    },
    {
      "cell_type": "code",
      "metadata": {
        "colab": {
          "base_uri": "https://localhost:8080/"
        },
        "id": "7sLn83B1BXyp",
        "outputId": "dbe070de-ccb2-4fd5-8f32-6010f3c792b6"
      },
      "source": [
        "#setの定義\n",
        "cat = {\"園田\", \"三村\", \"黒部\", \"阿部\", \"戸田\", \"八尾\", \"伊豆\", \"小栗\"}\n",
        "dog = {\"柴野\", \"羽柴\"}\n",
        "new = {\"八尾\", \"伊豆\", \"小栗\", \"柴野\", \"羽柴\"}\n",
        "\n",
        "#setの和集合\n",
        "all_memb = cat | dog\n",
        "print(all_mem)\n",
        "\n",
        "#setの差集合\n",
        "old = cat - new\n",
        "print(old)\n",
        "\n",
        "#setの論理積\n",
        "new_cat = cat & new\n",
        "print(new_cat)\n",
        "\n",
        "#setの排他的論理和\n",
        "xor = cat ^ new\n",
        "print(xor)\n",
        "\n",
        "#リストをsetに変換する\n",
        "cats_list = [\"戸田\", \"三村\", \"園田\", \"三村\", \"阿部\" , \"戸田\"]\n",
        "set_cats = set(cats_list)\n",
        "#リストにねこが何種類いるか表示\n",
        "print(len(set_cats))"
      ],
      "execution_count": 24,
      "outputs": [
        {
          "output_type": "stream",
          "text": [
            "{'八尾', '柴野', '羽柴', '園田', '伊豆', '戸田', '黒部', '小栗', '阿部', '三村'}\n",
            "{'園田', '戸田', '黒部', '阿部', '三村'}\n",
            "{'八尾', '伊豆', '小栗'}\n",
            "{'柴野', '戸田', '黒部', '阿部', '三村', '園田', '羽柴'}\n",
            "4\n"
          ],
          "name": "stdout"
        }
      ]
    },
    {
      "cell_type": "markdown",
      "metadata": {
        "id": "kFk8YgurPZNx"
      },
      "source": [
        "P.130 タプル\n",
        "\n",
        "タプル＝要素の変更ができない"
      ]
    },
    {
      "cell_type": "code",
      "metadata": {
        "colab": {
          "base_uri": "https://localhost:8080/"
        },
        "id": "5ybrrglbPY69",
        "outputId": "cee41078-93d1-4412-ba70-398f5bb75e9a"
      },
      "source": [
        "#タプルの定義\n",
        "month_names = (\"Jan\", \"Feb\", \"Mar\", \"Apr\", \"May\", \"Jun\", \"Jul\")\n",
        "print(month_names[4])\n",
        "\n",
        "#タプルの連結\n",
        "month_names += (\"Aug\", \"Sep\", \"Oct\", \"Nov\", \"Dec\")\n",
        "print(month_names[10])"
      ],
      "execution_count": 28,
      "outputs": [
        {
          "output_type": "stream",
          "text": [
            "May\n",
            "Nov\n"
          ],
          "name": "stdout"
        }
      ]
    }
  ]
}