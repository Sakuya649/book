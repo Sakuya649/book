{
  "nbformat": 4,
  "nbformat_minor": 0,
  "metadata": {
    "colab": {
      "name": "chap05.ipynb",
      "provenance": [],
      "collapsed_sections": [],
      "mount_file_id": "12ILby9Z3xxApePaS0HJhOQyhzE6Do1Df",
      "authorship_tag": "ABX9TyO4LjGqeGY+4L+XvBQLnqXe"
    },
    "kernelspec": {
      "name": "python3",
      "display_name": "Python 3"
    },
    "language_info": {
      "name": "python"
    }
  },
  "cells": [
    {
      "cell_type": "markdown",
      "metadata": {
        "id": "zCOdTnY0tWj5"
      },
      "source": [
        "P.231 関数型プログラミングあれこれ"
      ]
    },
    {
      "cell_type": "code",
      "metadata": {
        "colab": {
          "base_uri": "https://localhost:8080/"
        },
        "id": "4hGUKiWYtWN6",
        "outputId": "d41aac92-f92f-4f57-daa6-75cb3de76993"
      },
      "source": [
        "#リストのメソッドを使った回分判定\n",
        "orig_str = \"たけやぶやけた\"\n",
        "str_list = list(orig_str)\n",
        "str_list.reverse()\n",
        "\"\".join(str_list) == orig_str\n",
        "\n",
        "#関数を使った場合\n",
        "orig_str = \"たけやぶやけた\"\n",
        "\"\".join(reversed(orig_str)) == orig_str"
      ],
      "execution_count": 4,
      "outputs": [
        {
          "output_type": "execute_result",
          "data": {
            "text/plain": [
              "True"
            ]
          },
          "metadata": {
            "tags": []
          },
          "execution_count": 4
        }
      ]
    },
    {
      "cell_type": "markdown",
      "metadata": {
        "id": "SRmh5J74vb1I"
      },
      "source": [
        "P.233 lambda式\n",
        "\n",
        "→使い捨ての関数を定義できる．無名関数とも．\n",
        "\n",
        "※以下の例ではadd_lambdaという名前をつけているが，本来はつけないものらしい．名前が必要な場合は通常の関数，引数として利用する場合はlambda式のように使い分ける．"
      ]
    },
    {
      "cell_type": "code",
      "metadata": {
        "colab": {
          "base_uri": "https://localhost:8080/"
        },
        "id": "Hj8f-25SoLOl",
        "outputId": "da07e5f4-33d2-4ae4-fc67-561c1fea6ba4"
      },
      "source": [
        "#通常の関数\n",
        "def add_def(a, b):\n",
        "  return a+b\n",
        "\n",
        "#lambda式でのadd_def\n",
        "add_lambda = lambda a, b=1: a + b\n",
        "\n",
        "print(add_def(1,3))\n",
        "print(add_lambda(2,5))"
      ],
      "execution_count": 5,
      "outputs": [
        {
          "output_type": "stream",
          "text": [
            "4\n",
            "7\n"
          ],
          "name": "stdout"
        }
      ]
    },
    {
      "cell_type": "markdown",
      "metadata": {
        "id": "wULPaWDcxo77"
      },
      "source": [
        "P.235 内包表記"
      ]
    },
    {
      "cell_type": "code",
      "metadata": {
        "colab": {
          "base_uri": "https://localhost:8080/"
        },
        "id": "YyCjv0WKxon9",
        "outputId": "50216953-a8bc-4e22-a779-e0a8a683c5a3"
      },
      "source": [
        "score_list = [99, 85, 90, 75, 100]\n",
        "\n",
        "total = sum(score_list)\n",
        "length = len(score_list)\n",
        "mean = total / length\n",
        "\n",
        "#分散を内包表記で\n",
        "variance = sum([(score - mean) ** 2 for score in score_list]) / length\n",
        "print(variance)\n",
        "\n",
        "#リスト内包表記\n",
        "print([(score - mean) ** 2 for score in score_list])\n",
        "\n",
        "#ディクショナリ内包表記\n",
        "tz = {\"GMT\":\"+000\", \"BST\":\"+100\", \"EET\":\"+200\", \"JST\":\"+900\"}\n",
        "print(tz)\n",
        "revtz = {off:zone for zone, off in tz.items()}\n",
        "print(revtz)"
      ],
      "execution_count": 9,
      "outputs": [
        {
          "output_type": "stream",
          "text": [
            "86.16\n",
            "[84.64000000000006, 23.039999999999974, 0.04000000000000114, 219.0399999999999, 104.04000000000006]\n",
            "{'GMT': '+000', 'BST': '+100', 'EET': '+200', 'JST': '+900'}\n",
            "{'+000': 'GMT', '+100': 'BST', '+200': 'EET', '+900': 'JST'}\n"
          ],
          "name": "stdout"
        }
      ]
    },
    {
      "cell_type": "markdown",
      "metadata": {
        "id": "JD4sMzJW2uFD"
      },
      "source": [
        "P.240 イテレータ\n",
        "\n",
        "→次を取り出す，終わったら知らせるという手順でシーケンスを扱う\n",
        "\n",
        "行数や最大値を探索したり，ソートを使用する場合は使用できないが，大きなデータを扱うときに使用すると効率が良くなる"
      ]
    },
    {
      "cell_type": "code",
      "metadata": {
        "colab": {
          "base_uri": "https://localhost:8080/"
        },
        "id": "utrWA78o2xWR",
        "outputId": "0ee0988d-ca00-46a0-c8ee-e0109e5a949e"
      },
      "source": [
        "#最初の5行を読み込む(通常)\n",
        "test_file = \"/content/drive/MyDrive/Colab Notebooks/book/みんなのPython/some.txt\"\n",
        "f = open(test_file)\n",
        "lines = \"\"\n",
        "for i in range(5):\n",
        "  lines += f.readline()\n",
        "print(lines)\n",
        "\n",
        "#最初の5行を読み込む（イテレータ）\n",
        "#open()が返したイテレータをさらにenumerate()で受けている\n",
        "for c, l in enumerate(open(test_file)):\n",
        "  print(l, end=\"\")\n",
        "  if c == 4:\n",
        "    break"
      ],
      "execution_count": 15,
      "outputs": [
        {
          "output_type": "stream",
          "text": [
            "いろはにほへと\n",
            "ちりぬるを\n",
            "わかよたれそ\n",
            "つねならむ\n",
            "うゐのおくやま\n",
            "\n",
            "いろはにほへと\n",
            "ちりぬるを\n",
            "わかよたれそ\n",
            "つねならむ\n",
            "うゐのおくやま\n"
          ],
          "name": "stdout"
        }
      ]
    },
    {
      "cell_type": "markdown",
      "metadata": {
        "id": "XBnGkmQT7QfZ"
      },
      "source": [
        "P.245 ジェネレータ\n",
        "\n",
        "ジェネレータとは，イテレータを簡単に定義するための仕組み\n",
        ">・returnの代わりにyieldを使う\n",
        "\n",
        "↓の例では，nextのときにジェネレータ関数のブロックが実行されている"
      ]
    },
    {
      "cell_type": "code",
      "metadata": {
        "colab": {
          "base_uri": "https://localhost:8080/"
        },
        "id": "DIRzO2tC9L-y",
        "outputId": "0fe0363b-ee21-41d1-bee4-a0b63af43cbf"
      },
      "source": [
        "#素数を返すジェネレータ関数\n",
        "def get_primes(x = 2):\n",
        "  while True:\n",
        "    for i in range(2, x):\n",
        "      if x % i == 0:\n",
        "        break\n",
        "    else:\n",
        "      yield x\n",
        "    x += 1\n",
        "\n",
        "i = get_primes()\n",
        "for c in range(10):\n",
        "  print(next(i))"
      ],
      "execution_count": 18,
      "outputs": [
        {
          "output_type": "stream",
          "text": [
            "2\n",
            "3\n",
            "5\n",
            "7\n",
            "11\n",
            "13\n",
            "17\n",
            "19\n",
            "23\n",
            "29\n"
          ],
          "name": "stdout"
        }
      ]
    },
    {
      "cell_type": "markdown",
      "metadata": {
        "id": "-E9WQPFG_C6K"
      },
      "source": [
        "P.248 高階関数とデコレータ\n",
        "\n",
        "高階関数：関数を引数として処理する関数，戻り値として関数を返す関数\n",
        "\n",
        "デコレータ：関数定義の前に＠をつけて高階関数をかく．変数への代入をしなくても高階関数を利用できる"
      ]
    },
    {
      "cell_type": "code",
      "metadata": {
        "colab": {
          "base_uri": "https://localhost:8080/"
        },
        "id": "meBO0N0g-9LQ",
        "outputId": "ca23ccf2-cd00-4a63-831c-6e32053312f1"
      },
      "source": [
        "#int(\"100\")と同じ処理．\n",
        "def execute(func, arg):\n",
        "  return func(arg)\n",
        "\n",
        "print(execute(int, \"100\"))\n",
        "\n",
        "#関数を受け取り実行する関数\n",
        "def logger(func):\n",
        "  def inner(*args):\n",
        "    print(\"引数：\", args)\n",
        "    return func(*args)\n",
        "  return inner\n",
        "\n",
        "#2つの値をたす関数\n",
        "def accumulate(a, b):\n",
        "  return a+b\n",
        "\n",
        "#accumulateをloggerに渡す新しい関数\n",
        "newfunc = logger(accumulate)\n",
        "print(newfunc(1, 2))\n",
        "\n",
        "#デコレータを使うと\n",
        "@logger\n",
        "def accumulate(a, b):\n",
        "  return a+b\n",
        "\n",
        "print(accumulate(3, 4))"
      ],
      "execution_count": 24,
      "outputs": [
        {
          "output_type": "stream",
          "text": [
            "100\n",
            "引数： (1, 2)\n",
            "3\n",
            "引数： (3, 4)\n",
            "7\n"
          ],
          "name": "stdout"
        }
      ]
    }
  ]
}