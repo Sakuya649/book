{
  "nbformat": 4,
  "nbformat_minor": 0,
  "metadata": {
    "colab": {
      "name": "chap02.ipynb",
      "provenance": [],
      "mount_file_id": "1Cz-e8unXiqSjxV8PwP-7AuqmeZxNllFr",
      "authorship_tag": "ABX9TyPgvmYwluLdcfSRE6qtEKTX",
      "include_colab_link": true
    },
    "kernelspec": {
      "name": "python3",
      "display_name": "Python 3"
    },
    "language_info": {
      "name": "python"
    }
  },
  "cells": [
    {
      "cell_type": "markdown",
      "metadata": {
        "id": "view-in-github",
        "colab_type": "text"
      },
      "source": [
        "<a href=\"https://colab.research.google.com/github/Sakuya649/book/blob/main/%E3%81%BF%E3%82%93%E3%81%AA%E3%81%AEPython/chap02.ipynb\" target=\"_parent\"><img src=\"https://colab.research.google.com/assets/colab-badge.svg\" alt=\"Open In Colab\"/></a>"
      ]
    },
    {
      "cell_type": "code",
      "metadata": {
        "id": "jlmtHIllnhKM"
      },
      "source": [
        "import matplotlib.pyplot as plt"
      ],
      "execution_count": 5,
      "outputs": []
    },
    {
      "cell_type": "markdown",
      "metadata": {
        "id": "xScJI7lblLDi"
      },
      "source": [
        "P.67 リストの連結\n",
        "リストを足し算すると連結できる"
      ]
    },
    {
      "cell_type": "code",
      "metadata": {
        "colab": {
          "base_uri": "https://localhost:8080/"
        },
        "id": "KbrYcg6MjhUx",
        "outputId": "f77464ab-b27b-4b3c-f74d-be3ba525381e"
      },
      "source": [
        "list_a = [1, 2, 3]\n",
        "list_b = [4, 5]\n",
        "list_c = list_a + list_b\n",
        "print(list_c)"
      ],
      "execution_count": 1,
      "outputs": [
        {
          "output_type": "stream",
          "text": [
            "[1, 2, 3, 4, 5]\n"
          ],
          "name": "stdout"
        }
      ]
    },
    {
      "cell_type": "markdown",
      "metadata": {
        "id": "_aQcLBM6l_eH"
      },
      "source": [
        "P.68 リストの置換，削除"
      ]
    },
    {
      "cell_type": "code",
      "metadata": {
        "colab": {
          "base_uri": "https://localhost:8080/"
        },
        "id": "1-Pv-NTPl2CX",
        "outputId": "0919b8e0-675e-4bb0-b2ee-22490fe8cac8"
      },
      "source": [
        "animal = [\"犬\", \"猫\", \"鳥\"]\n",
        "print(animal)\n",
        "#要素の置換\n",
        "animal[2] = \"猿\"\n",
        "print(animal)\n",
        "#要素の削除\n",
        "del animal[2]\n",
        "print(animal)"
      ],
      "execution_count": 4,
      "outputs": [
        {
          "output_type": "stream",
          "text": [
            "['犬', '猫', '鳥']\n",
            "['犬', '猫', '猿']\n",
            "['犬', '猫']\n"
          ],
          "name": "stdout"
        }
      ]
    },
    {
      "cell_type": "markdown",
      "metadata": {
        "id": "U8IEhA3in8Vw"
      },
      "source": [
        "P.71 リストにおけるスライス\n",
        ">リスト名[開始：終了]\n",
        "\n",
        "開始箇所〜終了の前を出力"
      ]
    },
    {
      "cell_type": "code",
      "metadata": {
        "colab": {
          "base_uri": "https://localhost:8080/"
        },
        "id": "6dFgOP7Vn7je",
        "outputId": "51447ca2-fd67-47a6-feb0-c16d7d779bb8"
      },
      "source": [
        "alphabet = [\"AB\", \"CD\", \"EF\", \"GH\"]\n",
        "print(alphabet[1:3])"
      ],
      "execution_count": 6,
      "outputs": [
        {
          "output_type": "stream",
          "text": [
            "['CD', 'EF']\n"
          ],
          "name": "stdout"
        }
      ]
    },
    {
      "cell_type": "markdown",
      "metadata": {
        "id": "dlJXgmJMrwz5"
      },
      "source": [
        "P.72 2次元配列\n",
        "\n",
        "リスト名[行][列]で指定する"
      ]
    },
    {
      "cell_type": "code",
      "metadata": {
        "colab": {
          "base_uri": "https://localhost:8080/"
        },
        "id": "8XNxECuEr7JO",
        "outputId": "30b45b7f-9a89-4eff-ee8e-1b2a89365354"
      },
      "source": [
        "num_list=[\n",
        "          [0, 1, 2, 3, 4],\n",
        "          [5, 6, 7, 8, 9],\n",
        "          [10, 11, 12, 13, 14]\n",
        "]\n",
        "print(num_list[1])\n",
        "print(num_list[1][2])"
      ],
      "execution_count": 2,
      "outputs": [
        {
          "output_type": "stream",
          "text": [
            "[5, 6, 7, 8, 9]\n",
            "7\n"
          ],
          "name": "stdout"
        }
      ]
    }
  ]
}